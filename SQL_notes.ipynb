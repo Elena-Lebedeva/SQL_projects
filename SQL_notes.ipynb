{
  "nbformat": 4,
  "nbformat_minor": 0,
  "metadata": {
    "colab": {
      "name": "SQL_notes.ipynb",
      "provenance": [],
      "authorship_tag": "ABX9TyMxOxQxz80rgVG7S2tZKhAc"
    },
    "kernelspec": {
      "name": "python3",
      "display_name": "Python 3"
    },
    "language_info": {
      "name": "python"
    }
  },
  "cells": [
    {
      "cell_type": "markdown",
      "metadata": {
        "id": "cqvu0mYv9srw"
      },
      "source": [
        "from SoloLearn\n"
      ]
    },
    {
      "cell_type": "code",
      "metadata": {
        "id": "KJEd1UDx9oW8"
      },
      "source": [
        "INSERT INTO Animals\n",
        "VALUES ('Slim' ,'Giraffe' ,1);\n",
        "SELECT Animals.name, Animals.type, Countries.country\n",
        "FROM Animals, Countries\n",
        "WHERE Countries.id=Animals.country_id\n",
        "Order By country;\n",
        "\n",
        "Your Output\n",
        "name,type,country Bert,Tiger,India Candy,Elephant,India Vova,Bear,Russia Slim,Giraffe,USA Merlin,Lion,USA Pop,Horse,USA"
      ],
      "execution_count": null,
      "outputs": []
    },
    {
      "cell_type": "markdown",
      "metadata": {
        "id": "iq-OLVEWLiRE"
      },
      "source": [
        "form Praktikum"
      ]
    },
    {
      "cell_type": "code",
      "metadata": {
        "id": "MMJB4IPgLkV8"
      },
      "source": [
        "SELECT \n",
        "    name, \n",
        "    author \n",
        "FROM \n",
        "    books\n",
        "WHERE \n",
        "    author = 'Эрих Мария Ремарк';--Строки, как в Python, заключают в кавычки "
      ],
      "execution_count": null,
      "outputs": []
    },
    {
      "cell_type": "code",
      "metadata": {
        "id": "2k-VkBmnLwmb"
      },
      "source": [
        "SELECT\n",
        "    *\n",
        "FROM\n",
        "    название_таблицы\n",
        "WHERE\n",
        "    условие_1\n",
        "    AND условие_2;\n",
        "\n",
        "--Выбираются строки, которые соответствуют сразу обоим условиям\n",
        "SELECT\n",
        "    *\n",
        "FROM\n",
        "    название_таблицы\n",
        "WHERE\n",
        "    условие_1\n",
        "    OR условие_2;\n",
        "\n",
        "--Выбираются строки, которые соответствуют хотя бы одному из условий\n",
        "SELECT\n",
        "    *\n",
        "FROM\n",
        "    название_таблицы\n",
        "WHERE\n",
        "    условие_1\n",
        "    AND NOT условие_2;\n",
        "\n",
        "--Выбираются строки, которые соответствуют условию_1 и не соответствуют условию_2 "
      ],
      "execution_count": null,
      "outputs": []
    },
    {
      "cell_type": "code",
      "metadata": {
        "id": "J7SFtYOyMNWE"
      },
      "source": [
        "SELECT\n",
        "    name,\n",
        "    author,\n",
        "    date_pub,\n",
        "    price\n",
        "FROM\n",
        "    books\n",
        "WHERE\n",
        "    date_pub > '1990-12-31'\n",
        "    AND date_pub < '2001-01-01';\n",
        "\n",
        "\n",
        "/* границы дат в условие не включены, \n",
        "чтобы выбрать все дни с 1991 по 2000 годы,\n",
        "мы взяли последний день 1990 года\n",
        "и первый день 2001 года */"
      ],
      "execution_count": null,
      "outputs": []
    },
    {
      "cell_type": "markdown",
      "metadata": {
        "id": "giV2SdOfMTbD"
      },
      "source": [
        "В отличие от предыдущего кода, границы диапазона в BETWEEN включены в результирующую выборку:"
      ]
    },
    {
      "cell_type": "code",
      "metadata": {
        "id": "5bFKeJ2DMUYs"
      },
      "source": [
        "SELECT\n",
        "    name,\n",
        "    pub_name\n",
        "FROM\n",
        "    books\n",
        "WHERE\n",
        "    pub_name IN ('АСТ', 'ЛитРес', 'Росмэн', 'Эксмо');"
      ],
      "execution_count": null,
      "outputs": []
    },
    {
      "cell_type": "code",
      "metadata": {
        "id": "8_tnov7lM7pz"
      },
      "source": [
        "SELECT  \n",
        "    name, \n",
        "    pub_name \n",
        "FROM \n",
        "    books\n",
        "WHERE \n",
        "    pub_name NOT IN ('АСТ','ЛитРес','Росмэн','Эксмо');"
      ],
      "execution_count": null,
      "outputs": []
    },
    {
      "cell_type": "markdown",
      "metadata": {
        "id": "ZMCU_zUCM8Xc"
      },
      "source": [
        "Если в списке должны быть числа, их указывают через запятую: IN (3,7,9). Строки тоже через запятую, но в одинарных кавычках: IN ('значение_1','значение_2','значение_3'). Дату и время обозначают так: IN ('ГГГГ-мм-дд','ГГГГ-мм-дд')"
      ]
    },
    {
      "cell_type": "code",
      "metadata": {
        "id": "SC7qTHWEM-6s"
      },
      "source": [
        "SELECT\n",
        "    name,\n",
        "    price,\n",
        "    name_store,\n",
        "    date_upd\n",
        "FROM\n",
        "    products_data_all\n",
        "WHERE\n",
        "    category = 'молоко и сливки'\n",
        "    AND\n",
        "    date_upd IN('2019-06-08', '2019-06-15', '2019-06-22', '2019-06-29');"
      ],
      "execution_count": null,
      "outputs": []
    },
    {
      "cell_type": "code",
      "metadata": {
        "id": "xshDNyupNjbM"
      },
      "source": [
        "SELECT\n",
        "    COUNT(*) AS cnt\n",
        "FROM\n",
        "    products_data_all;"
      ],
      "execution_count": null,
      "outputs": []
    },
    {
      "cell_type": "code",
      "metadata": {
        "id": "GwlHVAQ2OPz0"
      },
      "source": [
        "SELECT\n",
        "    COUNT(*) AS cnt\n",
        "FROM\n",
        "    books\n",
        "WHERE\n",
        "    author = 'Эрих Мария Ремарк'; "
      ],
      "execution_count": null,
      "outputs": []
    },
    {
      "cell_type": "markdown",
      "metadata": {
        "id": "7Taj_N1vOYCr"
      },
      "source": [
        "В зависимости от задачи количество строк считают по-разному:\n",
        "COUNT(*) возвращает общее количество строк в таблице;\n",
        "COUNT(column) возвращает число строк в столбце column;\n",
        "COUNT(DISTINCT column) (англ. distinct, «отдельный, особый») возвращает количество уникальных строк в столбце column."
      ]
    },
    {
      "cell_type": "code",
      "metadata": {
        "id": "YiZ8SI8wOaYT"
      },
      "source": [
        "SELECT\n",
        "    COUNT(*) AS cnt,\n",
        "    COUNT(rating) AS author_cnt,\n",
        "    COUNT(DISTINCT rating) AS author_uniq_cnt\n",
        "FROM\n",
        "    books;"
      ],
      "execution_count": null,
      "outputs": []
    },
    {
      "cell_type": "code",
      "metadata": {
        "id": "6Pn8uUMXOnaj"
      },
      "source": [
        "SELECT\n",
        "    SUM(price) AS summa\n",
        "FROM\n",
        "    books; "
      ],
      "execution_count": null,
      "outputs": []
    },
    {
      "cell_type": "code",
      "metadata": {
        "id": "thbyfcxgOtoM"
      },
      "source": [
        "SELECT\n",
        "    AVG(price) AS average\n",
        "FROM\n",
        "    books; "
      ],
      "execution_count": null,
      "outputs": []
    },
    {
      "cell_type": "code",
      "metadata": {
        "id": "bn0PcrS8QbBU"
      },
      "source": [
        "SELECT\n",
        "    AVG(price) AS average\n",
        "FROM\n",
        "    products_data_all\n",
        "WHERE\n",
        "    name='Молоко пастеризованное Домик в деревне 2,5%, 930 мл'\n",
        "    AND name_store='Семёрочка';"
      ],
      "execution_count": null,
      "outputs": []
    },
    {
      "cell_type": "code",
      "metadata": {
        "id": "41zPwzwkQxk7"
      },
      "source": [
        "SELECT\n",
        "    MAX(price)-MIN(price) AS max_min_diff\n",
        "FROM\n",
        "    products_data_all\n",
        "WHERE\n",
        "    name='Масло топленое Ecotavush 99%, 500 г'\n",
        "    AND name_store='ВкусМилк';"
      ],
      "execution_count": null,
      "outputs": []
    },
    {
      "cell_type": "code",
      "metadata": {
        "id": "A7GReOC0RGfj"
      },
      "source": [
        "Числовые типы данных\n",
        "integer — целочисленный тип, аналогичный типу int в Python. В PostgreSQL диапазон целых чисел от -2147483648 до 2147483647.\n",
        "real — число с плавающей точкой, как float в Python. Точность числа типа real до 6 десятичных разрядов.\n",
        "Строковые типы данных\n",
        "'Практикум' — значение строкового типа, в SQL запросе его заключают в одинарные кавычки.\n",
        "varchar(n) — строка переменной длины, где n — ограничение. Этот тип данных похож на string в Python, но в отличие от него ограничен по длине: в поле можно занести любую строку короче, чем n символов.\n",
        "text — строка любой длины. Полный аналог string в Python.\n",
        "Дата и время\n",
        "Любые вводимые значения даты или времени заключают в одинарные кавычки.\n",
        "timestamp — дата и время. Этот тип аналогичен datetime в Pandas. В формате timestamp чаще всего хранят события, происходящие несколько раз за день. Например, логи пользователей сайта.\n",
        "date — дата.\n",
        "Логический\n",
        "boolean — логический тип данных. В PostgreSQL есть три варианта значений TRUE — «истина», FALSE — «ложь» и NULL — «неизвестно».\n",
        "Вы изучили распространённые типы данных. Есть и много других. Вы можете познакомиться с ними самостоятельно в документации."
      ],
      "execution_count": null,
      "outputs": []
    },
    {
      "cell_type": "code",
      "metadata": {
        "id": "jhPApKfsaibz"
      },
      "source": [
        "SELECT\n",
        "    AVG(pages::integer) AS average\n",
        "FROM\n",
        "    books;\n",
        "\n",
        "SELECT\n",
        "    AVG(CAST(pages AS integer)) AS average\n",
        "FROM\n",
        "    books;"
      ],
      "execution_count": null,
      "outputs": []
    },
    {
      "cell_type": "code",
      "metadata": {
        "id": "0dgnKYNQamua"
      },
      "source": [
        "SELECT\n",
        "    author,\n",
        "    COUNT(name) AS cnt\n",
        "FROM\n",
        "    books\n",
        "GROUP BY\n",
        "    author;"
      ],
      "execution_count": null,
      "outputs": []
    },
    {
      "cell_type": "code",
      "metadata": {
        "id": "xmuE5xAGbb2y"
      },
      "source": [
        "SELECT\n",
        "    author,\n",
        "    rating,\n",
        "    COUNT(name) AS cnt\n",
        "FROM\n",
        "    books\n",
        "GROUP BY\n",
        "    author,\n",
        "    rating;"
      ],
      "execution_count": null,
      "outputs": []
    },
    {
      "cell_type": "code",
      "metadata": {
        "id": "C0Gk081HbeNK"
      },
      "source": [
        "SELECT\n",
        "    author,\n",
        "    AVG(pages) AS avg_pages,\n",
        "    MAX(pages) AS max_pages\n",
        "FROM\n",
        "    books\n",
        "GROUP BY\n",
        "    author;"
      ],
      "execution_count": null,
      "outputs": []
    },
    {
      "cell_type": "code",
      "metadata": {
        "id": "_uNcyV-EcdXa"
      },
      "source": [
        "SELECT\n",
        "    name,\n",
        "    MAX(price) - MIN(price) AS max_min_diff\n",
        "FROM\n",
        "    products_data_all\n",
        "WHERE\n",
        "    category = 'масло сливочное и маргарин'\n",
        "    AND date_upd :: date = '2019-06-10'\n",
        "GROUP BY\n",
        "    name;"
      ],
      "execution_count": null,
      "outputs": []
    },
    {
      "cell_type": "code",
      "metadata": {
        "id": "c2Nz2aL_gWqS"
      },
      "source": [
        "SELECT\n",
        "    \n",
        "    date_upd::date AS update_date,\n",
        "    category,\n",
        "    COUNT(category) AS name_cnt\n",
        "FROM\n",
        "    products_data_all\n",
        "WHERE\n",
        "    date_upd::date='2019-06-05'\n",
        "GROUP BY\n",
        "    update_date,\n",
        "    category    \n",
        "ORDER BY\n",
        "    name_cnt;"
      ],
      "execution_count": null,
      "outputs": []
    },
    {
      "cell_type": "code",
      "metadata": {
        "id": "7wtJYKEghYZx"
      },
      "source": [
        "SELECT\n",
        "    \n",
        "    date_upd::date AS update_date,\n",
        "    name_store,\n",
        "    category,\n",
        "    COUNT(DISTINCT name) AS uniq_name_cnt\n",
        "FROM\n",
        "    products_data_all\n",
        "WHERE\n",
        "    name_store='Lentro'\n",
        "    AND date_upd::date='2019-06-30'\n",
        "GROUP BY\n",
        "    category,\n",
        "    update_date,\n",
        "    name_store\n",
        "ORDER BY\n",
        "    uniq_name_cnt DESC;"
      ],
      "execution_count": null,
      "outputs": []
    },
    {
      "cell_type": "code",
      "metadata": {
        "id": "8K3y8ypjkzOi"
      },
      "source": [
        "SELECT\n",
        "    name,\n",
        "    MAX(price) AS max_price\n",
        "FROM\n",
        "    products_data_all\n",
        "GROUP BY\n",
        "    name\n",
        "    \n",
        "ORDER BY\n",
        "    max_price DESC\n",
        "LIMIT\n",
        "5;"
      ],
      "execution_count": null,
      "outputs": []
    },
    {
      "cell_type": "markdown",
      "metadata": {
        "id": "ygUQd1S2r3vj"
      },
      "source": [
        ""
      ]
    },
    {
      "cell_type": "code",
      "metadata": {
        "id": "lenPLVGjphNx"
      },
      "source": [
        "SELECT\n",
        "    interviews_ft.panelist_id,\n",
        "    MAX(points_dm.points)\n",
        "FROM\n",
        "    interviews_ft \n",
        "    INNER JOIN points_dm on points_dm.interview_id = interviews_ft.interview_id\n",
        "GROUP BY\n",
        "    interviews_ft.panelist_id\n",
        "ORDER BY\n",
        "    points_dm.points DESC\n",
        "LIMIT \n",
        "    3;"
      ],
      "execution_count": null,
      "outputs": []
    },
    {
      "cell_type": "code",
      "metadata": {
        "id": "bbEo_ygpr48Y"
      },
      "source": [
        "SELECT\n",
        "    COUNT(panelist_dm.panelist_id),\n",
        "    AVG(points_dm.interview_id)\n",
        "    panelist_dm.country\n",
        "FROM\n",
        "    interviews_ft \n",
        "    INNER JOIN points_dm on points_dm.interview_id = interviews_ft.interview_id\n",
        "    INNER JOIN panelist_dm on interviews_ft.panelist_id = panelist_dm.panelist_id\n",
        "GROUP BY\n",
        "    panelist_dm.panelist_id,\n",
        "    points_dm.interview_id,\n",
        "    panelist_dm.country"
      ],
      "execution_count": null,
      "outputs": []
    },
    {
      "cell_type": "code",
      "metadata": {
        "id": "qP53ejKoun8Q"
      },
      "source": [
        "SELECT\n",
        "   AVG (points_dm.interview_id)\n",
        "FROM\n",
        "    interviews_ft \n",
        "    INNER JOIN points_dm on points_dm.interview_id = interviews_ft.interview_id\n",
        "GROUP BY\n",
        "    points_dm.interview_id"
      ],
      "execution_count": null,
      "outputs": []
    },
    {
      "cell_type": "code",
      "source": [
        "SELECT COUNT(flights.flight_id) AS flights_amount,\n",
        "       CASE\n",
        "           WHEN model LIKE 'Airbus%' THEN 'Airbus'\n",
        "           WHEN model LIKE 'Boeing%' THEN 'Boeing'\n",
        "           ELSE 'other'\n",
        "       END AS type_aircraft\n",
        "FROM aircrafts\n",
        "INNER JOIN flights ON flights.aircraft_code = aircrafts.aircraft_code\n",
        "WHERE CAST(flights.departure_time AS date) BETWEEN '2018-09-01' AND '2018-09-30'\n",
        "GROUP BY type_aircraft; \n"
      ],
      "metadata": {
        "id": "8VuRltm8is4O"
      },
      "execution_count": null,
      "outputs": []
    },
    {
      "cell_type": "code",
      "source": [
        "SELECT name,\n",
        " CASE\n",
        "  WHEN imdb_rating > 8 THEN 'Fantastic'\n",
        "  WHEN imdb_rating > 6 THEN 'Poorly Received'\n",
        "  ELSE 'Avoid at All Costs'\n",
        " END AS 'Review'\n",
        "FROM movies;"
      ],
      "metadata": {
        "id": "RZJ9aD2mZzXP"
      },
      "execution_count": null,
      "outputs": []
    },
    {
      "cell_type": "markdown",
      "source": [
        "% Wildcard\n",
        "The % wildcard can be used in a LIKE operator pattern to match zero or more unspecified character(s). The given query will match any movie that begins with The, followed by zero or more of any characters."
      ],
      "metadata": {
        "id": "cnNo1L43lsuq"
      }
    },
    {
      "cell_type": "code",
      "source": [
        "SELECT name\n",
        "FROM movies\n",
        "WHERE name LIKE 'The%';"
      ],
      "metadata": {
        "id": "mXlpiq34ltkB"
      },
      "execution_count": null,
      "outputs": []
    },
    {
      "cell_type": "markdown",
      "source": [
        "_ Wildcard\n",
        "The _ wildcard can be used in a LIKE operator pattern to match any single unspecified character. The given query will match any movie which begins with a single character, followed by ove."
      ],
      "metadata": {
        "id": "Ncg66nEAl4iR"
      }
    },
    {
      "cell_type": "code",
      "source": [
        "SELECT name\n",
        "FROM movies\n",
        "WHERE name LIKE '_ove';"
      ],
      "metadata": {
        "id": "IUWm45-ql5Tp"
      },
      "execution_count": null,
      "outputs": []
    },
    {
      "cell_type": "code",
      "source": [
        "SELECT COUNT(*)"
      ],
      "metadata": {
        "id": "2NyKxTkFl77p"
      },
      "execution_count": null,
      "outputs": []
    },
    {
      "cell_type": "code",
      "source": [
        "SELECT SUM(downloads)\n",
        "FROM fake_apps;"
      ],
      "metadata": {
        "id": "UVtkWPOMoKno"
      },
      "execution_count": null,
      "outputs": []
    },
    {
      "cell_type": "code",
      "source": [
        "SELECT ROUND(AVG(price), 2)\n",
        "FROM fake_apps;"
      ],
      "metadata": {
        "id": "DxAUV8uJppc6"
      },
      "execution_count": null,
      "outputs": []
    },
    {
      "cell_type": "code",
      "source": [
        "SELECT price, COUNT(*) \n",
        "FROM fake_apps\n",
        "WHERE downloads > 20000\n",
        "GROUP BY price;"
      ],
      "metadata": {
        "id": "0STsXWpbqr2X"
      },
      "execution_count": null,
      "outputs": []
    },
    {
      "cell_type": "code",
      "source": [
        "SELECT category, \n",
        "   price,\n",
        "   AVG(downloads)\n",
        "FROM fake_apps\n",
        "GROUP BY category, price;"
      ],
      "metadata": {
        "id": "AKxCkwg7r11v"
      },
      "execution_count": null,
      "outputs": []
    },
    {
      "cell_type": "code",
      "source": [
        "SELECT category, \n",
        "   price,\n",
        "   AVG(downloads)\n",
        "FROM fake_apps\n",
        "GROUP BY 1, 2;"
      ],
      "metadata": {
        "id": "aOmfSYyxr4EI"
      },
      "execution_count": null,
      "outputs": []
    },
    {
      "cell_type": "code",
      "source": [
        "SELECT price, \n",
        "   ROUND(AVG(downloads)),\n",
        "   COUNT(*)\n",
        "FROM fake_apps\n",
        "GROUP BY price\n",
        "HAVING COUNT(*) > 10"
      ],
      "metadata": {
        "id": "eOMu3GqIss7h"
      },
      "execution_count": null,
      "outputs": []
    },
    {
      "cell_type": "code",
      "source": [
        "SELECT shirts.shirt_color,\n",
        "   pants.pants_color\n",
        "FROM shirts\n",
        "CROSS JOIN pants;"
      ],
      "metadata": {
        "id": "3DJ_hzIKhYo7"
      },
      "execution_count": null,
      "outputs": []
    },
    {
      "cell_type": "code",
      "source": [
        "SELECT COUNT(DISTINCT user_id) AS 'enrollments',\n",
        "  COUNT(CASE\n",
        "       \tWHEN strftime(\"%m\", cancel_date) = '03'\n",
        "        THEN user_id\n",
        "  END) AS 'march_cancellations',\n",
        " \tROUND(100.0 * COUNT(CASE\n",
        "       \tWHEN strftime(\"%m\", cancel_date) = '03'\n",
        "        THEN user_id\n",
        "  END) / COUNT(DISTINCT user_id)) AS 'churn_rate'\n",
        "FROM pro_users\n",
        "WHERE signup_date < '2017-04-01'\n",
        "\tAND (\n",
        "    (cancel_date IS NULL) OR\n",
        "    (cancel_date > '2017-03-01')\n",
        "  );"
      ],
      "metadata": {
        "id": "3u1t8TScoN_v"
      },
      "execution_count": null,
      "outputs": []
    },
    {
      "cell_type": "code",
      "source": [
        "SELECT CASE\n",
        "   WHEN url LIKE '%github%' THEN 'GitHub'\n",
        "   WHEN url LIKE '%medium.com%' THEN 'Medium'\n",
        "   WHEN url LIKE '%nytimes.com%' THEN 'New York Times'\n",
        "   ELSE 'Other'\n",
        "  END AS 'Source',\n",
        "  COUNT(*)\n",
        "FROM hacker_news\n",
        "GROUP BY 1;"
      ],
      "metadata": {
        "id": "I6EA50bGWK1M"
      },
      "execution_count": null,
      "outputs": []
    },
    {
      "cell_type": "code",
      "source": [
        "SELECT timestamp,\n",
        "   strftime('%H', timestamp)\n",
        "FROM hacker_news\n",
        "GROUP BY 1\n",
        "LIMIT 20;"
      ],
      "metadata": {
        "id": "VtU5xJShWwdB"
      },
      "execution_count": null,
      "outputs": []
    },
    {
      "cell_type": "markdown",
      "source": [
        "This returns the hour, HH, of the timestamp column!\n",
        "\n",
        "For strftime(__, timestamp):\n",
        "\n",
        "%Y returns the year (YYYY)\n",
        "%m returns the month (01-12)\n",
        "%d returns the day of the month (1-31)\n",
        "%H returns 24-hour clock (00-23)\n",
        "%M returns the minute (00-59)\n",
        "%S returns the seconds (00-59)\n",
        "if timestamp format is YYYY-MM-DD HH:MM:SS."
      ],
      "metadata": {
        "id": "dC6XKiL_WxFH"
      }
    },
    {
      "cell_type": "code",
      "source": [
        "SELECT strftime('%H', timestamp) AS 'Hour',\n",
        " ROUND(AVG(score), 2) AS avg_score, \n",
        " COUNT(*) AS 'number of stories'\n",
        "FROM hacker_news\n",
        "WHERE timestamp IS NOT NULL\n",
        "GROUP BY 1\n",
        "ORDER BY 2 DESC;"
      ],
      "metadata": {
        "id": "hZov1pcPW0Vm"
      },
      "execution_count": null,
      "outputs": []
    },
    {
      "cell_type": "code",
      "source": [
        "SELECT COUNT(DISTINCT user_id) AS enrollments,\n",
        "\tCOUNT(CASE\n",
        "       \tWHEN strftime(\"%m\", cancel_date) = '03'\n",
        "        THEN user_id\n",
        "  END) AS march_cancellations,\n",
        " \tROUND(100.0 * COUNT(CASE\n",
        "       \tWHEN strftime(\"%m\", cancel_date) = '03'\n",
        "        THEN user_id\n",
        "  END) / COUNT(DISTINCT user_id)) AS churn_rate\n",
        "FROM pro_users\n",
        "WHERE signup_date < '2017-04-01'\n",
        "\tAND (\n",
        "    (cancel_date IS NULL) OR\n",
        "    (cancel_date > '2017-03-01')\n",
        "  );"
      ],
      "metadata": {
        "id": "Wu29FYTLsHkX"
      },
      "execution_count": null,
      "outputs": []
    }
  ]
}