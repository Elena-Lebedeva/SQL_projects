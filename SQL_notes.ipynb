{
  "nbformat": 4,
  "nbformat_minor": 0,
  "metadata": {
    "colab": {
      "provenance": [],
      "authorship_tag": "ABX9TyPzdRfrVr6K54ChnxZuIO5g",
      "include_colab_link": true
    },
    "kernelspec": {
      "name": "python3",
      "display_name": "Python 3"
    },
    "language_info": {
      "name": "python"
    }
  },
  "cells": [
    {
      "cell_type": "markdown",
      "metadata": {
        "id": "view-in-github",
        "colab_type": "text"
      },
      "source": [
        "<a href=\"https://colab.research.google.com/github/Elena-Lebedeva/SQL_projects/blob/main/SQL_notes.ipynb\" target=\"_parent\"><img src=\"https://colab.research.google.com/assets/colab-badge.svg\" alt=\"Open In Colab\"/></a>"
      ]
    },
    {
      "cell_type": "markdown",
      "metadata": {
        "id": "cqvu0mYv9srw"
      },
      "source": [
        "from SoloLearn\n"
      ]
    },
    {
      "cell_type": "code",
      "metadata": {
        "id": "KJEd1UDx9oW8"
      },
      "source": [
        "INSERT INTO Animals\n",
        "VALUES ('Slim' ,'Giraffe' ,1);\n",
        "SELECT Animals.name, Animals.type, Countries.country\n",
        "FROM Animals, Countries\n",
        "WHERE Countries.id=Animals.country_id\n",
        "Order By country;\n",
        "\n",
        "Your Output\n",
        "name,type,country Bert,Tiger,India Candy,Elephant,India Vova,Bear,Russia Slim,Giraffe,USA Merlin,Lion,USA Pop,Horse,USA"
      ],
      "execution_count": null,
      "outputs": []
    },
    {
      "cell_type": "markdown",
      "metadata": {
        "id": "iq-OLVEWLiRE"
      },
      "source": [
        "form Praktikum"
      ]
    },
    {
      "cell_type": "code",
      "metadata": {
        "id": "MMJB4IPgLkV8"
      },
      "source": [
        "SELECT \n",
        "    name, \n",
        "    author \n",
        "FROM \n",
        "    books\n",
        "WHERE \n",
        "    author = 'Эрих Мария Ремарк';--Строки, как в Python, заключают в кавычки "
      ],
      "execution_count": null,
      "outputs": []
    },
    {
      "cell_type": "code",
      "metadata": {
        "id": "2k-VkBmnLwmb"
      },
      "source": [
        "SELECT\n",
        "    *\n",
        "FROM\n",
        "    название_таблицы\n",
        "WHERE\n",
        "    условие_1\n",
        "    AND условие_2;\n",
        "\n",
        "--Выбираются строки, которые соответствуют сразу обоим условиям\n",
        "SELECT\n",
        "    *\n",
        "FROM\n",
        "    название_таблицы\n",
        "WHERE\n",
        "    условие_1\n",
        "    OR условие_2;\n",
        "\n",
        "--Выбираются строки, которые соответствуют хотя бы одному из условий\n",
        "SELECT\n",
        "    *\n",
        "FROM\n",
        "    название_таблицы\n",
        "WHERE\n",
        "    условие_1\n",
        "    AND NOT условие_2;\n",
        "\n",
        "--Выбираются строки, которые соответствуют условию_1 и не соответствуют условию_2 "
      ],
      "execution_count": null,
      "outputs": []
    },
    {
      "cell_type": "code",
      "metadata": {
        "id": "J7SFtYOyMNWE"
      },
      "source": [
        "SELECT\n",
        "    name,\n",
        "    author,\n",
        "    date_pub,\n",
        "    price\n",
        "FROM\n",
        "    books\n",
        "WHERE\n",
        "    date_pub > '1990-12-31'\n",
        "    AND date_pub < '2001-01-01';\n",
        "\n",
        "\n",
        "/* границы дат в условие не включены, \n",
        "чтобы выбрать все дни с 1991 по 2000 годы,\n",
        "мы взяли последний день 1990 года\n",
        "и первый день 2001 года */"
      ],
      "execution_count": null,
      "outputs": []
    },
    {
      "cell_type": "markdown",
      "metadata": {
        "id": "giV2SdOfMTbD"
      },
      "source": [
        "В отличие от предыдущего кода, границы диапазона в BETWEEN включены в результирующую выборку:"
      ]
    },
    {
      "cell_type": "code",
      "metadata": {
        "id": "5bFKeJ2DMUYs"
      },
      "source": [
        "SELECT\n",
        "    name,\n",
        "    pub_name\n",
        "FROM\n",
        "    books\n",
        "WHERE\n",
        "    pub_name IN ('АСТ', 'ЛитРес', 'Росмэн', 'Эксмо');"
      ],
      "execution_count": null,
      "outputs": []
    },
    {
      "cell_type": "code",
      "metadata": {
        "id": "8_tnov7lM7pz"
      },
      "source": [
        "SELECT  \n",
        "    name, \n",
        "    pub_name \n",
        "FROM \n",
        "    books\n",
        "WHERE \n",
        "    pub_name NOT IN ('АСТ','ЛитРес','Росмэн','Эксмо');"
      ],
      "execution_count": null,
      "outputs": []
    },
    {
      "cell_type": "markdown",
      "metadata": {
        "id": "ZMCU_zUCM8Xc"
      },
      "source": [
        "Если в списке должны быть числа, их указывают через запятую: IN (3,7,9). Строки тоже через запятую, но в одинарных кавычках: IN ('значение_1','значение_2','значение_3'). Дату и время обозначают так: IN ('ГГГГ-мм-дд','ГГГГ-мм-дд')"
      ]
    },
    {
      "cell_type": "code",
      "metadata": {
        "id": "SC7qTHWEM-6s"
      },
      "source": [
        "SELECT\n",
        "    name,\n",
        "    price,\n",
        "    name_store,\n",
        "    date_upd\n",
        "FROM\n",
        "    products_data_all\n",
        "WHERE\n",
        "    category = 'молоко и сливки'\n",
        "    AND\n",
        "    date_upd IN('2019-06-08', '2019-06-15', '2019-06-22', '2019-06-29');"
      ],
      "execution_count": null,
      "outputs": []
    },
    {
      "cell_type": "code",
      "metadata": {
        "id": "xshDNyupNjbM"
      },
      "source": [
        "SELECT\n",
        "    COUNT(*) AS cnt\n",
        "FROM\n",
        "    products_data_all;"
      ],
      "execution_count": null,
      "outputs": []
    },
    {
      "cell_type": "code",
      "metadata": {
        "id": "GwlHVAQ2OPz0"
      },
      "source": [
        "SELECT\n",
        "    COUNT(*) AS cnt\n",
        "FROM\n",
        "    books\n",
        "WHERE\n",
        "    author = 'Эрих Мария Ремарк'; "
      ],
      "execution_count": null,
      "outputs": []
    },
    {
      "cell_type": "markdown",
      "metadata": {
        "id": "7Taj_N1vOYCr"
      },
      "source": [
        "В зависимости от задачи количество строк считают по-разному:\n",
        "COUNT(*) возвращает общее количество строк в таблице;\n",
        "COUNT(column) возвращает число строк в столбце column;\n",
        "COUNT(DISTINCT column) (англ. distinct, «отдельный, особый») возвращает количество уникальных строк в столбце column."
      ]
    },
    {
      "cell_type": "code",
      "metadata": {
        "id": "YiZ8SI8wOaYT"
      },
      "source": [
        "SELECT\n",
        "    COUNT(*) AS cnt,\n",
        "    COUNT(rating) AS author_cnt,\n",
        "    COUNT(DISTINCT rating) AS author_uniq_cnt\n",
        "FROM\n",
        "    books;"
      ],
      "execution_count": null,
      "outputs": []
    },
    {
      "cell_type": "code",
      "metadata": {
        "id": "6Pn8uUMXOnaj"
      },
      "source": [
        "SELECT\n",
        "    SUM(price) AS summa\n",
        "FROM\n",
        "    books; "
      ],
      "execution_count": null,
      "outputs": []
    },
    {
      "cell_type": "code",
      "metadata": {
        "id": "thbyfcxgOtoM"
      },
      "source": [
        "SELECT\n",
        "    AVG(price) AS average\n",
        "FROM\n",
        "    books; "
      ],
      "execution_count": null,
      "outputs": []
    },
    {
      "cell_type": "code",
      "metadata": {
        "id": "bn0PcrS8QbBU"
      },
      "source": [
        "SELECT\n",
        "    AVG(price) AS average\n",
        "FROM\n",
        "    products_data_all\n",
        "WHERE\n",
        "    name='Молоко пастеризованное Домик в деревне 2,5%, 930 мл'\n",
        "    AND name_store='Семёрочка';"
      ],
      "execution_count": null,
      "outputs": []
    },
    {
      "cell_type": "code",
      "metadata": {
        "id": "41zPwzwkQxk7"
      },
      "source": [
        "SELECT\n",
        "    MAX(price)-MIN(price) AS max_min_diff\n",
        "FROM\n",
        "    products_data_all\n",
        "WHERE\n",
        "    name='Масло топленое Ecotavush 99%, 500 г'\n",
        "    AND name_store='ВкусМилк';"
      ],
      "execution_count": null,
      "outputs": []
    },
    {
      "cell_type": "code",
      "metadata": {
        "id": "A7GReOC0RGfj"
      },
      "source": [
        "Числовые типы данных\n",
        "integer — целочисленный тип, аналогичный типу int в Python. В PostgreSQL диапазон целых чисел от -2147483648 до 2147483647.\n",
        "real — число с плавающей точкой, как float в Python. Точность числа типа real до 6 десятичных разрядов.\n",
        "Строковые типы данных\n",
        "'Практикум' — значение строкового типа, в SQL запросе его заключают в одинарные кавычки.\n",
        "varchar(n) — строка переменной длины, где n — ограничение. Этот тип данных похож на string в Python, но в отличие от него ограничен по длине: в поле можно занести любую строку короче, чем n символов.\n",
        "text — строка любой длины. Полный аналог string в Python.\n",
        "Дата и время\n",
        "Любые вводимые значения даты или времени заключают в одинарные кавычки.\n",
        "timestamp — дата и время. Этот тип аналогичен datetime в Pandas. В формате timestamp чаще всего хранят события, происходящие несколько раз за день. Например, логи пользователей сайта.\n",
        "date — дата.\n",
        "Логический\n",
        "boolean — логический тип данных. В PostgreSQL есть три варианта значений TRUE — «истина», FALSE — «ложь» и NULL — «неизвестно».\n",
        "Вы изучили распространённые типы данных. Есть и много других. Вы можете познакомиться с ними самостоятельно в документации."
      ],
      "execution_count": null,
      "outputs": []
    },
    {
      "cell_type": "code",
      "metadata": {
        "id": "jhPApKfsaibz"
      },
      "source": [
        "SELECT\n",
        "    AVG(pages::integer) AS average\n",
        "FROM\n",
        "    books;\n",
        "\n",
        "SELECT\n",
        "    AVG(CAST(pages AS integer)) AS average\n",
        "FROM\n",
        "    books;"
      ],
      "execution_count": null,
      "outputs": []
    },
    {
      "cell_type": "code",
      "metadata": {
        "id": "0dgnKYNQamua"
      },
      "source": [
        "SELECT\n",
        "    author,\n",
        "    COUNT(name) AS cnt\n",
        "FROM\n",
        "    books\n",
        "GROUP BY\n",
        "    author;"
      ],
      "execution_count": null,
      "outputs": []
    },
    {
      "cell_type": "code",
      "metadata": {
        "id": "xmuE5xAGbb2y"
      },
      "source": [
        "SELECT\n",
        "    author,\n",
        "    rating,\n",
        "    COUNT(name) AS cnt\n",
        "FROM\n",
        "    books\n",
        "GROUP BY\n",
        "    author,\n",
        "    rating;"
      ],
      "execution_count": null,
      "outputs": []
    },
    {
      "cell_type": "code",
      "metadata": {
        "id": "C0Gk081HbeNK"
      },
      "source": [
        "SELECT\n",
        "    author,\n",
        "    AVG(pages) AS avg_pages,\n",
        "    MAX(pages) AS max_pages\n",
        "FROM\n",
        "    books\n",
        "GROUP BY\n",
        "    author;"
      ],
      "execution_count": null,
      "outputs": []
    },
    {
      "cell_type": "code",
      "metadata": {
        "id": "_uNcyV-EcdXa"
      },
      "source": [
        "SELECT\n",
        "    name,\n",
        "    MAX(price) - MIN(price) AS max_min_diff\n",
        "FROM\n",
        "    products_data_all\n",
        "WHERE\n",
        "    category = 'масло сливочное и маргарин'\n",
        "    AND date_upd :: date = '2019-06-10'\n",
        "GROUP BY\n",
        "    name;"
      ],
      "execution_count": null,
      "outputs": []
    },
    {
      "cell_type": "code",
      "metadata": {
        "id": "c2Nz2aL_gWqS"
      },
      "source": [
        "SELECT\n",
        "    \n",
        "    date_upd::date AS update_date,\n",
        "    category,\n",
        "    COUNT(category) AS name_cnt\n",
        "FROM\n",
        "    products_data_all\n",
        "WHERE\n",
        "    date_upd::date='2019-06-05'\n",
        "GROUP BY\n",
        "    update_date,\n",
        "    category    \n",
        "ORDER BY\n",
        "    name_cnt;"
      ],
      "execution_count": null,
      "outputs": []
    },
    {
      "cell_type": "code",
      "metadata": {
        "id": "7wtJYKEghYZx"
      },
      "source": [
        "SELECT\n",
        "    \n",
        "    date_upd::date AS update_date,\n",
        "    name_store,\n",
        "    category,\n",
        "    COUNT(DISTINCT name) AS uniq_name_cnt\n",
        "FROM\n",
        "    products_data_all\n",
        "WHERE\n",
        "    name_store='Lentro'\n",
        "    AND date_upd::date='2019-06-30'\n",
        "GROUP BY\n",
        "    category,\n",
        "    update_date,\n",
        "    name_store\n",
        "ORDER BY\n",
        "    uniq_name_cnt DESC;"
      ],
      "execution_count": null,
      "outputs": []
    },
    {
      "cell_type": "code",
      "metadata": {
        "id": "8K3y8ypjkzOi"
      },
      "source": [
        "SELECT\n",
        "    name,\n",
        "    MAX(price) AS max_price\n",
        "FROM\n",
        "    products_data_all\n",
        "GROUP BY\n",
        "    name\n",
        "    \n",
        "ORDER BY\n",
        "    max_price DESC\n",
        "LIMIT\n",
        "5;"
      ],
      "execution_count": null,
      "outputs": []
    },
    {
      "cell_type": "markdown",
      "metadata": {
        "id": "ygUQd1S2r3vj"
      },
      "source": []
    },
    {
      "cell_type": "code",
      "metadata": {
        "id": "lenPLVGjphNx"
      },
      "source": [
        "SELECT\n",
        "    interviews_ft.panelist_id,\n",
        "    MAX(points_dm.points)\n",
        "FROM\n",
        "    interviews_ft \n",
        "    INNER JOIN points_dm on points_dm.interview_id = interviews_ft.interview_id\n",
        "GROUP BY\n",
        "    interviews_ft.panelist_id\n",
        "ORDER BY\n",
        "    points_dm.points DESC\n",
        "LIMIT \n",
        "    3;"
      ],
      "execution_count": null,
      "outputs": []
    },
    {
      "cell_type": "code",
      "metadata": {
        "id": "bbEo_ygpr48Y"
      },
      "source": [
        "SELECT\n",
        "    COUNT(panelist_dm.panelist_id),\n",
        "    AVG(points_dm.interview_id)\n",
        "    panelist_dm.country\n",
        "FROM\n",
        "    interviews_ft \n",
        "    INNER JOIN points_dm on points_dm.interview_id = interviews_ft.interview_id\n",
        "    INNER JOIN panelist_dm on interviews_ft.panelist_id = panelist_dm.panelist_id\n",
        "GROUP BY\n",
        "    panelist_dm.panelist_id,\n",
        "    points_dm.interview_id,\n",
        "    panelist_dm.country"
      ],
      "execution_count": null,
      "outputs": []
    },
    {
      "cell_type": "code",
      "metadata": {
        "id": "qP53ejKoun8Q"
      },
      "source": [
        "SELECT\n",
        "   AVG (points_dm.interview_id)\n",
        "FROM\n",
        "    interviews_ft \n",
        "    INNER JOIN points_dm on points_dm.interview_id = interviews_ft.interview_id\n",
        "GROUP BY\n",
        "    points_dm.interview_id"
      ],
      "execution_count": null,
      "outputs": []
    },
    {
      "cell_type": "code",
      "source": [
        "SELECT COUNT(flights.flight_id) AS flights_amount,\n",
        "       CASE\n",
        "           WHEN model LIKE 'Airbus%' THEN 'Airbus'\n",
        "           WHEN model LIKE 'Boeing%' THEN 'Boeing'\n",
        "           ELSE 'other'\n",
        "       END AS type_aircraft\n",
        "FROM aircrafts\n",
        "INNER JOIN flights ON flights.aircraft_code = aircrafts.aircraft_code\n",
        "WHERE CAST(flights.departure_time AS date) BETWEEN '2018-09-01' AND '2018-09-30'\n",
        "GROUP BY type_aircraft; \n"
      ],
      "metadata": {
        "id": "8VuRltm8is4O"
      },
      "execution_count": null,
      "outputs": []
    },
    {
      "cell_type": "code",
      "source": [
        "SELECT name,\n",
        " CASE\n",
        "  WHEN imdb_rating > 8 THEN 'Fantastic'\n",
        "  WHEN imdb_rating > 6 THEN 'Poorly Received'\n",
        "  ELSE 'Avoid at All Costs'\n",
        " END AS 'Review'\n",
        "FROM movies;"
      ],
      "metadata": {
        "id": "RZJ9aD2mZzXP"
      },
      "execution_count": null,
      "outputs": []
    },
    {
      "cell_type": "markdown",
      "source": [
        "% Wildcard\n",
        "The % wildcard can be used in a LIKE operator pattern to match zero or more unspecified character(s). The given query will match any movie that begins with The, followed by zero or more of any characters."
      ],
      "metadata": {
        "id": "cnNo1L43lsuq"
      }
    },
    {
      "cell_type": "code",
      "source": [
        "SELECT name\n",
        "FROM movies\n",
        "WHERE name LIKE 'The%';"
      ],
      "metadata": {
        "id": "mXlpiq34ltkB"
      },
      "execution_count": null,
      "outputs": []
    },
    {
      "cell_type": "markdown",
      "source": [
        "_ Wildcard\n",
        "The _ wildcard can be used in a LIKE operator pattern to match any single unspecified character. The given query will match any movie which begins with a single character, followed by ove."
      ],
      "metadata": {
        "id": "Ncg66nEAl4iR"
      }
    },
    {
      "cell_type": "code",
      "source": [
        "SELECT name\n",
        "FROM movies\n",
        "WHERE name LIKE '_ove';"
      ],
      "metadata": {
        "id": "IUWm45-ql5Tp"
      },
      "execution_count": null,
      "outputs": []
    },
    {
      "cell_type": "code",
      "source": [
        "SELECT COUNT(*)"
      ],
      "metadata": {
        "id": "2NyKxTkFl77p"
      },
      "execution_count": null,
      "outputs": []
    },
    {
      "cell_type": "code",
      "source": [
        "SELECT SUM(downloads)\n",
        "FROM fake_apps;"
      ],
      "metadata": {
        "id": "UVtkWPOMoKno"
      },
      "execution_count": null,
      "outputs": []
    },
    {
      "cell_type": "code",
      "source": [
        "SELECT ROUND(AVG(price), 2)\n",
        "FROM fake_apps;"
      ],
      "metadata": {
        "id": "DxAUV8uJppc6"
      },
      "execution_count": null,
      "outputs": []
    },
    {
      "cell_type": "code",
      "source": [
        "SELECT price, COUNT(*) \n",
        "FROM fake_apps\n",
        "WHERE downloads > 20000\n",
        "GROUP BY price;"
      ],
      "metadata": {
        "id": "0STsXWpbqr2X"
      },
      "execution_count": null,
      "outputs": []
    },
    {
      "cell_type": "code",
      "source": [
        "SELECT category, \n",
        "   price,\n",
        "   AVG(downloads)\n",
        "FROM fake_apps\n",
        "GROUP BY category, price;"
      ],
      "metadata": {
        "id": "AKxCkwg7r11v"
      },
      "execution_count": null,
      "outputs": []
    },
    {
      "cell_type": "code",
      "source": [
        "SELECT category, \n",
        "   price,\n",
        "   AVG(downloads)\n",
        "FROM fake_apps\n",
        "GROUP BY 1, 2;"
      ],
      "metadata": {
        "id": "aOmfSYyxr4EI"
      },
      "execution_count": null,
      "outputs": []
    },
    {
      "cell_type": "code",
      "source": [
        "SELECT price, \n",
        "   ROUND(AVG(downloads)),\n",
        "   COUNT(*)\n",
        "FROM fake_apps\n",
        "GROUP BY price\n",
        "HAVING COUNT(*) > 10"
      ],
      "metadata": {
        "id": "eOMu3GqIss7h"
      },
      "execution_count": null,
      "outputs": []
    },
    {
      "cell_type": "code",
      "source": [
        "SELECT shirts.shirt_color,\n",
        "   pants.pants_color\n",
        "FROM shirts\n",
        "CROSS JOIN pants;"
      ],
      "metadata": {
        "id": "3DJ_hzIKhYo7"
      },
      "execution_count": null,
      "outputs": []
    },
    {
      "cell_type": "code",
      "source": [
        "SELECT COUNT(DISTINCT user_id) AS 'enrollments',\n",
        "  COUNT(CASE\n",
        "       \tWHEN strftime(\"%m\", cancel_date) = '03'\n",
        "        THEN user_id\n",
        "  END) AS 'march_cancellations',\n",
        " \tROUND(100.0 * COUNT(CASE\n",
        "       \tWHEN strftime(\"%m\", cancel_date) = '03'\n",
        "        THEN user_id\n",
        "  END) / COUNT(DISTINCT user_id)) AS 'churn_rate'\n",
        "FROM pro_users\n",
        "WHERE signup_date < '2017-04-01'\n",
        "\tAND (\n",
        "    (cancel_date IS NULL) OR\n",
        "    (cancel_date > '2017-03-01')\n",
        "  );"
      ],
      "metadata": {
        "id": "3u1t8TScoN_v"
      },
      "execution_count": null,
      "outputs": []
    },
    {
      "cell_type": "code",
      "source": [
        "SELECT CASE\n",
        "   WHEN url LIKE '%github%' THEN 'GitHub'\n",
        "   WHEN url LIKE '%medium.com%' THEN 'Medium'\n",
        "   WHEN url LIKE '%nytimes.com%' THEN 'New York Times'\n",
        "   ELSE 'Other'\n",
        "  END AS 'Source',\n",
        "  COUNT(*)\n",
        "FROM hacker_news\n",
        "GROUP BY 1;"
      ],
      "metadata": {
        "id": "I6EA50bGWK1M"
      },
      "execution_count": null,
      "outputs": []
    },
    {
      "cell_type": "code",
      "source": [
        "SELECT timestamp,\n",
        "   strftime('%H', timestamp)\n",
        "FROM hacker_news\n",
        "GROUP BY 1\n",
        "LIMIT 20;"
      ],
      "metadata": {
        "id": "VtU5xJShWwdB"
      },
      "execution_count": null,
      "outputs": []
    },
    {
      "cell_type": "markdown",
      "source": [
        "This returns the hour, HH, of the timestamp column!\n",
        "\n",
        "For strftime(__, timestamp):\n",
        "\n",
        "%Y returns the year (YYYY)\n",
        "%m returns the month (01-12)\n",
        "%d returns the day of the month (1-31)\n",
        "%H returns 24-hour clock (00-23)\n",
        "%M returns the minute (00-59)\n",
        "%S returns the seconds (00-59)\n",
        "if timestamp format is YYYY-MM-DD HH:MM:SS."
      ],
      "metadata": {
        "id": "dC6XKiL_WxFH"
      }
    },
    {
      "cell_type": "code",
      "source": [
        "SELECT strftime('%H', timestamp) AS 'Hour',\n",
        " ROUND(AVG(score), 2) AS avg_score, \n",
        " COUNT(*) AS 'number of stories'\n",
        "FROM hacker_news\n",
        "WHERE timestamp IS NOT NULL\n",
        "GROUP BY 1\n",
        "ORDER BY 2 DESC;"
      ],
      "metadata": {
        "id": "hZov1pcPW0Vm"
      },
      "execution_count": null,
      "outputs": []
    },
    {
      "cell_type": "code",
      "source": [
        "SELECT COUNT(DISTINCT user_id) AS enrollments,\n",
        "\tCOUNT(CASE\n",
        "       \tWHEN strftime(\"%m\", cancel_date) = '03'\n",
        "        THEN user_id\n",
        "  END) AS march_cancellations,\n",
        " \tROUND(100.0 * COUNT(CASE\n",
        "       \tWHEN strftime(\"%m\", cancel_date) = '03'\n",
        "        THEN user_id\n",
        "  END) / COUNT(DISTINCT user_id)) AS churn_rate\n",
        "FROM pro_users\n",
        "WHERE signup_date < '2017-04-01'\n",
        "\tAND (\n",
        "    (cancel_date IS NULL) OR\n",
        "    (cancel_date > '2017-03-01')\n",
        "  );"
      ],
      "metadata": {
        "id": "Wu29FYTLsHkX"
      },
      "execution_count": null,
      "outputs": []
    },
    {
      "cell_type": "code",
      "source": [
        "SELECT CASE\n",
        "   WHEN medium LIKE '%gold%'   THEN 'Gold'\n",
        "   WHEN medium LIKE '%silver%' THEN 'Silver'\n",
        "   ELSE NULL\n",
        "  END AS 'Bling',\n",
        "  COUNT(*)\n",
        "FROM met\n",
        "WHERE Bling IS NOT NULL\n",
        "GROUP BY 1\n",
        "ORDER BY 2 DESC;"
      ],
      "metadata": {
        "id": "OdYQnS9RFXZm"
      },
      "execution_count": null,
      "outputs": []
    },
    {
      "cell_type": "code",
      "source": [
        " SELECT \n",
        " \tpremium_users.purchase_date,\n",
        "  premium_users.cancel_date,\n",
        "  premium_users.user_id,\n",
        "  months.months,\n",
        "  CASE\n",
        "    WHEN (\n",
        "      premium_users.purchase_date <= months.months\n",
        "      )\n",
        "      AND\n",
        "      (\n",
        "        premium_users.cancel_date >= months.months\n",
        "        OR\n",
        "        premium_users.cancel_date IS NULL\n",
        "      )\n",
        "    THEN 'active'\n",
        "    ELSE 'not_active'\n",
        "  END AS 'status'\n",
        "FROM premium_users\n",
        "CROSS JOIN months;"
      ],
      "metadata": {
        "id": "fAIVASeppKBB"
      },
      "execution_count": null,
      "outputs": []
    },
    {
      "cell_type": "code",
      "source": [
        "SELECT * \n",
        "FROM table1\n",
        "UNION\n",
        "SELECT * \n",
        "FROM table2;"
      ],
      "metadata": {
        "id": "D9_dTUBX2x_C"
      },
      "execution_count": null,
      "outputs": []
    },
    {
      "cell_type": "code",
      "source": [
        "WITH play_count AS (\n",
        "  SELECT song_id,\n",
        "   COUNT(*) AS 'times_played'\n",
        "  FROM plays\n",
        "  GROUP BY song_id\n",
        ") \n",
        "SELECT \n",
        "songs.title,\n",
        "songs.artist,\n",
        "play_count.times_played\n",
        "FROM\n",
        "songs LEFT JOIN play_count\n",
        "ON play_count.song_id = songs.id\n",
        ";"
      ],
      "metadata": {
        "id": "xa-aNRkZ4iCK"
      },
      "execution_count": null,
      "outputs": []
    },
    {
      "cell_type": "code",
      "source": [
        "SELECT id, first_name, last_name\n",
        "FROM book_club\n",
        "JOIN art_club\n",
        "  ON book_club.id = art_club.id;\n",
        "# same but more readable\n",
        "SELECT id, first_name, last_name\n",
        "FROM book_club\n",
        "WHERE id IN (\n",
        "   SELECT id \n",
        "   FROM art_club);"
      ],
      "metadata": {
        "id": "8_8756yR542K"
      },
      "execution_count": null,
      "outputs": []
    },
    {
      "cell_type": "code",
      "source": [
        "DELETE FROM drama_students\n",
        "WHERE id in (\n",
        "   SELECT id\n",
        "   FROM band_students\n",
        "   WHERE grade = 9);"
      ],
      "metadata": {
        "id": "p8qKV4BJ-eqT"
      },
      "execution_count": null,
      "outputs": []
    },
    {
      "cell_type": "code",
      "source": [
        "SELECT * \n",
        "FROM drama_students\n",
        "WHERE grade = (\n",
        "  SELECT grade\n",
        "  FROM band_students\n",
        "  WHERE id = 20);"
      ],
      "metadata": {
        "id": "UlwHSX-JAT66"
      },
      "execution_count": null,
      "outputs": []
    },
    {
      "cell_type": "code",
      "source": [
        "SELECT  first_name, last_name\n",
        "FROM band_students\n",
        "WHERE id NOT IN (\n",
        "  SELECT id\n",
        "  FROM drama_students);"
      ],
      "metadata": {
        "id": "o4FDhkF1BqoT"
      },
      "execution_count": null,
      "outputs": []
    },
    {
      "cell_type": "code",
      "source": [
        "SELECT grade\n",
        "FROM band_students\n",
        "WHERE EXISTS (\n",
        "   SELECT grade\n",
        "   FROM drama_students);"
      ],
      "metadata": {
        "id": "4KjlE_DzC5Kq"
      },
      "execution_count": null,
      "outputs": []
    },
    {
      "cell_type": "code",
      "source": [
        "SELECT \n",
        "places.name, places.average_rating,\n",
        "reviews.username, reviews.rating, reviews.review_date, reviews.note\n",
        "FROM places\n",
        "left JOIN reviews\n",
        "ON reviews.place_id = places.id\n",
        "WHERE reviews.note IS NULL\n",
        ";"
      ],
      "metadata": {
        "id": "uVTOCfHURzaQ"
      },
      "execution_count": null,
      "outputs": []
    },
    {
      "cell_type": "code",
      "source": [
        "WITH new_reviews AS \n",
        "(SELECT * FROM reviews\n",
        "WHERE review_date LIKE \"2020-%\"\n",
        ")\n",
        "SELECT \n",
        "places.name, places.average_rating,\n",
        "new_reviews.username, new_reviews.rating, new_reviews.review_date, new_reviews.note\n",
        "FROM places\n",
        "INNER JOIN new_reviews\n",
        "ON new_reviews.place_id = places.id\n",
        ";"
      ],
      "metadata": {
        "id": "nZU7k2hpTz9Z"
      },
      "execution_count": null,
      "outputs": []
    },
    {
      "cell_type": "code",
      "source": [
        "WITH new_reviews AS \n",
        "(SELECT *\n",
        "from reviews\n",
        "WHERE strftime(\"%Y\", review_date) = '2020'\n",
        ")\n",
        "SELECT \n",
        "places.name, places.average_rating,\n",
        "new_reviews.username, new_reviews.rating, new_reviews.review_date, new_reviews.note\n",
        "FROM places\n",
        "INNER JOIN new_reviews\n",
        "ON new_reviews.place_id = places.id\n",
        ";"
      ],
      "metadata": {
        "id": "sweiRdjOWSUy"
      },
      "execution_count": null,
      "outputs": []
    },
    {
      "cell_type": "code",
      "source": [
        "with low_reviews AS\n",
        "(\n",
        "SELECT \n",
        "places.name, places.average_rating,\n",
        "reviews.username, reviews.rating\n",
        "FROM places\n",
        "left JOIN reviews\n",
        "ON reviews.place_id = places.id\n",
        "WHERE reviews.note IS NOT NULL\n",
        "AND reviews.rating < average_rating\n",
        ")\n",
        "SELECT \n",
        "username,\n",
        "count(username)\n",
        "FROM low_reviews\n",
        "GROUP BY username\n",
        "ORDER BY 2 DESC\n",
        ";"
      ],
      "metadata": {
        "id": "4W_yZmp-X5Qx"
      },
      "execution_count": null,
      "outputs": []
    },
    {
      "cell_type": "code",
      "source": [
        "SELECT \n",
        "  posts.title, \n",
        "  subreddits.name AS 'subreddit_name', \n",
        "  MAX(posts.score) AS 'highest_score'\n",
        "FROM posts\n",
        "INNER JOIN subreddits\n",
        "  ON posts.subreddit_id = subreddits.id\n",
        "GROUP BY subreddits.id;"
      ],
      "metadata": {
        "id": "jcmoieeWgAcj"
      },
      "execution_count": null,
      "outputs": []
    },
    {
      "cell_type": "code",
      "source": [
        "SELECT \n",
        "  subreddits.name, \n",
        "  AVG(posts.score) AS 'average_score'\n",
        "FROM subreddits\n",
        "inner JOIN posts\n",
        "  ON posts.subreddit_id = subreddits.id\n",
        "GROUP BY subreddits.name\n",
        "ORDER BY 2 DESC;"
      ],
      "metadata": {
        "id": "7s_bB7eeg956"
      },
      "execution_count": null,
      "outputs": []
    },
    {
      "cell_type": "code",
      "source": [
        "SELECT project_name\n",
        "FROM \n",
        "projects  LEFT JOIN employees\n",
        "ON employees.current_project = projects.project_id\n",
        "WHERE first_name IS NULL;\n",
        "# same\n",
        "SELECT project_name \n",
        "FROM projects\n",
        "WHERE project_id NOT IN (\n",
        "   SELECT current_project\n",
        "   FROM employees\n",
        "   WHERE current_project IS NOT NULL);"
      ],
      "metadata": {
        "id": "4187h7Fb6FF3"
      },
      "execution_count": null,
      "outputs": []
    },
    {
      "cell_type": "code",
      "source": [
        "LIMIT 5;\n",
        "\n",
        "SELECT *\n",
        "FROM \n",
        "projects  LEFT JOIN employees\n",
        "ON employees.current_project = projects.project_id;\n",
        "\n",
        "select current_project, count (current_project) from employees\n",
        "GROUP BY current_project\n",
        "ORDER BY 2 DESC\n",
        "LIMIT 1\n"
      ],
      "metadata": {
        "id": "cLLfubCz8moH"
      },
      "execution_count": null,
      "outputs": []
    },
    {
      "cell_type": "code",
      "source": [
        "SELECT *\n",
        "FROM \n",
        "projects  LEFT JOIN employees\n",
        "ON employees.current_project = projects.project_id\n",
        ";"
      ],
      "metadata": {
        "id": "zoSbebJKBsiQ"
      },
      "execution_count": null,
      "outputs": []
    },
    {
      "cell_type": "code",
      "source": [
        "SELECT project_name, personality\n",
        "FROM projects\n",
        "INNER JOIN employees \n",
        "  ON projects.project_id = employees.current_project\n",
        "  WHERE personality = (\n",
        "   SELECT personality\n",
        "   FROM employees\n",
        "   GROUP BY personality\n",
        "   ORDER BY COUNT(personality) DESC\n",
        "   LIMIT 1);"
      ],
      "metadata": {
        "id": "UV3o6XJFDH5h"
      },
      "execution_count": null,
      "outputs": []
    },
    {
      "cell_type": "code",
      "source": [
        "SELECT last_name, first_name, personality, project_name\n",
        "FROM employees\n",
        "INNER JOIN projects \n",
        "  ON employees.current_project = projects.project_id\n",
        "WHERE personality = (\n",
        "   SELECT personality \n",
        "   FROM employees\n",
        "   WHERE current_project IS NOT NULL\n",
        "   GROUP BY personality\n",
        "   ORDER BY COUNT(personality) DESC\n",
        "   LIMIT 1);"
      ],
      "metadata": {
        "id": "lenrwQT-iigj"
      },
      "execution_count": null,
      "outputs": []
    },
    {
      "cell_type": "code",
      "source": [
        "SELECT last_name, first_name, personality, project_name,\n",
        "CASE \n",
        "   WHEN personality = 'INFP' \n",
        "   THEN (SELECT COUNT(*)\n",
        "      FROM employees \n",
        "      WHERE personality IN ('ISFP', 'ESFP', 'ISTP', 'ESTP', 'ISFJ', 'ESFJ', 'ISTJ', 'ESTJ'))\n",
        "   WHEN personality = 'ISFP' \n",
        "   THEN (SELECT COUNT(*)\n",
        "      FROM employees \n",
        "      WHERE personality IN ('INFP', 'ENTP', 'INFJ'))\n",
        "   -- ... etc.\n",
        "   ELSE 0\n",
        "END AS 'IMCOMPATS'\n",
        "FROM employees\n",
        "LEFT JOIN projects on employees.current_project = projects.project_id;"
      ],
      "metadata": {
        "id": "yUkiv4DJjbsU"
      },
      "execution_count": null,
      "outputs": []
    },
    {
      "cell_type": "markdown",
      "source": [
        "Funnels"
      ],
      "metadata": {
        "id": "gtH014Wg0NBE"
      }
    },
    {
      "cell_type": "code",
      "source": [
        "SELECT question_text,\n",
        "   COUNT(DISTINCT user_id)\n",
        "FROM survey_responses\n",
        "GROUP BY 1;"
      ],
      "metadata": {
        "id": "w0D4hzzU0MI2"
      },
      "execution_count": null,
      "outputs": []
    },
    {
      "cell_type": "code",
      "source": [
        "SELECT modal_text,\n",
        "  COUNT(DISTINCT CASE\n",
        "    WHEN ab_group = 'control' THEN user_id\n",
        "    END) AS 'control_clicks',\n",
        "      COUNT(DISTINCT CASE\n",
        "    WHEN ab_group = 'variant' THEN user_id\n",
        "    END) AS 'variant_clicks'\n",
        "FROM onboarding_modals\n",
        "GROUP BY 1\n",
        "ORDER BY 1;"
      ],
      "metadata": {
        "id": "N6dBNwV72oOl"
      },
      "execution_count": null,
      "outputs": []
    },
    {
      "cell_type": "code",
      "source": [
        " select * from browse as b\n",
        " left join\n",
        " checkout as c\n",
        " on b.user_id = c.user_id \n",
        " left join purchase as p\n",
        " on p.user_id = c.user_id \n",
        " limit 50;"
      ],
      "metadata": {
        "id": "llIROWGC42wr"
      },
      "execution_count": null,
      "outputs": []
    },
    {
      "cell_type": "code",
      "source": [
        "SELECT DISTINCT b.browse_date,\n",
        "   b.user_id,\n",
        "   c.user_id IS NOT NULL AS 'is_checkout',\n",
        "   p.user_id IS NOT NULL AS 'is_purchase'\n",
        "FROM browse AS 'b'\n",
        "LEFT JOIN checkout 'c'\n",
        "  ON c.user_id = b.user_id\n",
        "LEFT JOIN purchase 'p'\n",
        "  ON p.user_id = c.user_id\n",
        "LIMIT 50;\n",
        " ### For review, IS NOT NULL will return:\n",
        "\n",
        "# 1 (True) if a non-empty value is found\n",
        "# 0 (False) if a NULL value is found"
      ],
      "metadata": {
        "id": "ucc5rTZn6K1z"
      },
      "execution_count": null,
      "outputs": []
    },
    {
      "cell_type": "code",
      "source": [
        "WITH funnels AS (\n",
        "  SELECT DISTINCT b.browse_date,\n",
        "     b.user_id,\n",
        "     c.user_id IS NOT NULL AS 'is_checkout',\n",
        "     p.user_id IS NOT NULL AS 'is_purchase'\n",
        "  FROM browse AS 'b'\n",
        "  LEFT JOIN checkout AS 'c'\n",
        "    ON c.user_id = b.user_id\n",
        "  LEFT JOIN purchase AS 'p'\n",
        "    ON p.user_id = c.user_id)\n",
        "SELECT COUNT (*) AS 'num_browse'\n",
        "FROM funnels\n",
        ";"
      ],
      "metadata": {
        "id": "62wWg7UsPz6W"
      },
      "execution_count": null,
      "outputs": []
    },
    {
      "cell_type": "code",
      "source": [
        "WITH funnels AS (\n",
        "  SELECT DISTINCT b.browse_date,\n",
        "     b.user_id,\n",
        "     c.user_id IS NOT NULL AS 'is_checkout',\n",
        "     p.user_id IS NOT NULL AS 'is_purchase'\n",
        "  FROM browse AS 'b'\n",
        "  LEFT JOIN checkout AS 'c'\n",
        "    ON c.user_id = b.user_id\n",
        "  LEFT JOIN purchase AS 'p'\n",
        "    ON p.user_id = c.user_id)\n",
        "SELECT COUNT (*) AS 'num_browse', SUM(is_checkout) AS 'num_checkout', SUM(is_purchase) AS 'num_purchase',\n",
        "ROUND((1.0 * SUM(is_checkout) / COUNT(user_id)),2) AS 'from browse to checkout',\n",
        "ROUND((1.0 * SUM(is_purchase) / SUM(is_checkout)),2) AS 'from checkout to purchase'\n",
        "FROM funnels\n",
        ";"
      ],
      "metadata": {
        "id": "ePkJk5fsRb6F"
      },
      "execution_count": null,
      "outputs": []
    },
    {
      "cell_type": "code",
      "source": [
        "WITH funnels AS (\n",
        "  SELECT DISTINCT b.browse_date,\n",
        "     b.user_id,\n",
        "     c.user_id IS NOT NULL AS 'is_checkout',\n",
        "     p.user_id IS NOT NULL AS 'is_purchase'\n",
        "  FROM browse AS 'b'\n",
        "  LEFT JOIN checkout AS 'c'\n",
        "    ON c.user_id = b.user_id\n",
        "  LEFT JOIN purchase AS 'p'\n",
        "    ON p.user_id = c.user_id)\n",
        "SELECT \n",
        "browse_date,\n",
        "COUNT(*) AS 'num_browse',\n",
        "   SUM(is_checkout) AS 'num_checkout',\n",
        "   SUM(is_purchase) AS 'num_purchase',\n",
        "   1.0 * SUM(is_checkout) / COUNT(user_id) AS 'browse_to_checkout',\n",
        "   1.0 * SUM(is_purchase) / SUM(is_checkout) AS 'checkout_to_purchase'\n",
        "FROM funnels\n",
        "GROUP BY browse_date;"
      ],
      "metadata": {
        "id": "6K6H3W6JSgsD"
      },
      "execution_count": null,
      "outputs": []
    },
    {
      "cell_type": "code",
      "source": [
        "SELECT DISTINCT quiz.user_id, \n",
        "home_try_on.number_of_pairs IS NOT NULL AS 'is_home_try_on',\n",
        "       CASE\n",
        "           WHEN home_try_on.number_of_pairs LIKE '3%' THEN 3\n",
        "           WHEN home_try_on.number_of_pairs LIKE '5%' THEN 5\n",
        "       END AS is_home_try_on,\n",
        "purchase.product_id IS NOT NULL AS 'is_purchase'\n",
        "FROM quiz\n",
        "LEFT JOIN\n",
        "home_try_on\n",
        "ON quiz.user_id = home_try_on.user_id\n",
        "LEFT JOIN\n",
        "purchase\n",
        "ON home_try_on.user_id = purchase.user_id\n",
        "LIMIT 10;"
      ],
      "metadata": {
        "id": "uVpwOXupwEzN"
      },
      "execution_count": null,
      "outputs": []
    },
    {
      "cell_type": "code",
      "source": [
        "WITH enrollments AS\n",
        "(SELECT *\n",
        "FROM subscriptions\n",
        "WHERE subscription_start < '2016-12-01'\n",
        "AND (\n",
        "  (subscription_end >= '2016-12-01')\n",
        "  OR (subscription_end IS NULL)\n",
        ")),\n",
        "status AS \n",
        "(SELECT\n",
        "CASE\n",
        "  WHEN (subscription_end > '2016-12-31')\n",
        "    OR (subscription_end IS NULL) THEN 0\n",
        "    ELSE 1\n",
        "  END as is_canceled,\n",
        "  CASE\n",
        "    WHEN subscription_start < '2016-12-01'\n",
        "      AND (\n",
        "        (subscription_end >= '2016-12-01')\n",
        "        OR (subscription_end IS NULL)\n",
        "      ) THEN 1\n",
        "    ELSE 0\n",
        "  END as is_active\n",
        "  FROM enrollments\n",
        "  )\n",
        "SELECT 1.0 * SUM(is_canceled) / SUM(is_active)\n",
        "FROM status;"
      ],
      "metadata": {
        "id": "-yrtTw-x2WT1"
      },
      "execution_count": null,
      "outputs": []
    },
    {
      "cell_type": "code",
      "source": [
        "# churn for January\n",
        "WITH \n",
        "enrollments AS\n",
        "  (\n",
        "  SELECT *\n",
        "  FROM subscriptions\n",
        "  WHERE subscription_start < '2017-01-01'\n",
        "  AND ( (subscription_end >= '2017-01-01') OR (subscription_end IS NULL))\n",
        "  ),\n",
        "status AS \n",
        "  (\n",
        "   SELECT\n",
        "    CASE\n",
        "      WHEN (subscription_end > '2017-01-31') OR (subscription_end IS NULL) THEN 0\n",
        "      ELSE 1\n",
        "    END as is_canceled,\n",
        "    CASE\n",
        "        WHEN subscription_start < '2017-01-01' AND ((subscription_end >= '2017-01-01') OR (subscription_end IS NULL)) THEN 1\n",
        "        ELSE 0\n",
        "    END as is_active\n",
        "  FROM enrollments\n",
        "  )\n",
        "SELECT 1.0 * SUM(is_canceled) / SUM(is_active)\n",
        "FROM status;"
      ],
      "metadata": {
        "id": "qP8qvEFX4ViV"
      },
      "execution_count": null,
      "outputs": []
    },
    {
      "cell_type": "code",
      "source": [
        "WITH months AS\n",
        "(SELECT\n",
        "  '2017-01-01' as first_day,\n",
        "  '2017-01-31' as last_day\n",
        "UNION\n",
        "SELECT\n",
        "  '2017-02-01' as first_day,\n",
        "  '2017-02-28' as last_day\n",
        "UNION\n",
        "SELECT\n",
        "  '2017-03-01' as first_day,\n",
        "  '2017-03-31' as last_day\n",
        "),\n",
        "cross_join AS\n",
        "(SELECT *\n",
        "FROM subscriptions\n",
        "CROSS JOIN months),\n",
        "\n",
        "status AS \n",
        "  (\n",
        "SELECT\n",
        "id, first_day,\n",
        "  CASE\n",
        "        WHEN subscription_start < first_day AND ((subscription_end > first_day) OR (subscription_end IS NULL)) THEN 1\n",
        "ELSE 0\n",
        " END as is_active\n",
        "  FROM cross_join\n",
        "  )\n",
        "SELECT *\n",
        "FROM status\n",
        "LIMIT 100;\n",
        "\n"
      ],
      "metadata": {
        "id": "OUBMN301dZ4f"
      },
      "execution_count": null,
      "outputs": []
    },
    {
      "cell_type": "code",
      "source": [
        "WITH months AS\n",
        "(SELECT\n",
        "  '2017-01-01' as first_day,\n",
        "  '2017-01-31' as last_day\n",
        "UNION\n",
        "SELECT\n",
        "  '2017-02-01' as first_day,\n",
        "  '2017-02-28' as last_day\n",
        "UNION\n",
        "SELECT\n",
        "  '2017-03-01' as first_day,\n",
        "  '2017-03-31' as last_day\n",
        "),\n",
        "cross_join AS\n",
        "(SELECT *\n",
        "FROM subscriptions\n",
        "CROSS JOIN months),\n",
        "status AS\n",
        "(SELECT id, first_day as month,\n",
        "CASE\n",
        "  WHEN (subscription_start < first_day)\n",
        "    AND (\n",
        "      subscription_end > first_day\n",
        "      OR subscription_end IS NULL\n",
        "    ) THEN 1\n",
        "ELSE 0\n",
        "END as is_active,\n",
        "CASE\n",
        "      WHEN subscription_end BETWEEN first_day AND last_day\n",
        "      THEN 1\n",
        "      ELSE 0\n",
        "END as is_canceled\n",
        "FROM cross_join)\n",
        "SELECT *\n",
        "FROM status\n",
        "LIMIT 100;"
      ],
      "metadata": {
        "id": "wkjw_yVtgUq9"
      },
      "execution_count": null,
      "outputs": []
    },
    {
      "cell_type": "code",
      "source": [
        "WITH months AS\n",
        "(SELECT\n",
        "  '2017-01-01' as first_day,\n",
        "  '2017-01-31' as last_day\n",
        "UNION\n",
        "SELECT\n",
        "  '2017-02-01' as first_day,\n",
        "  '2017-02-28' as last_day\n",
        "UNION\n",
        "SELECT\n",
        "  '2017-03-01' as first_day,\n",
        "  '2017-03-31' as last_day\n",
        "),\n",
        "cross_join AS\n",
        "(SELECT *\n",
        "FROM subscriptions\n",
        "CROSS JOIN months),\n",
        "status AS\n",
        "(SELECT id, first_day as month,\n",
        "CASE\n",
        "  WHEN (subscription_start < first_day)\n",
        "    AND (\n",
        "      subscription_end > first_day\n",
        "      OR subscription_end IS NULL\n",
        "    ) THEN 1\n",
        "  ELSE 0\n",
        "END as is_active,\n",
        "CASE \n",
        "  WHEN subscription_end BETWEEN first_day AND last_day THEN 1\n",
        "  ELSE 0\n",
        "END as is_canceled\n",
        "FROM cross_join),\n",
        "\n",
        "status_aggregate AS \n",
        "( SELECT month, SUM (is_active),SUM (is_canceled)\n",
        "FROM status\n",
        "GROUP BY month\n",
        ")\n",
        "SELECT *\n",
        "FROM status_aggregate;"
      ],
      "metadata": {
        "id": "Tc2QcIxyuPyj"
      },
      "execution_count": null,
      "outputs": []
    },
    {
      "cell_type": "code",
      "source": [
        "WITH months AS\n",
        "(SELECT\n",
        "  '2017-01-01' as first_day,\n",
        "  '2017-01-31' as last_day\n",
        "UNION\n",
        "SELECT\n",
        "  '2017-02-01' as first_day,\n",
        "  '2017-02-28' as last_day\n",
        "UNION\n",
        "SELECT\n",
        "  '2017-03-01' as first_day,\n",
        "  '2017-03-31' as last_day\n",
        "),\n",
        "cross_join AS\n",
        "(SELECT *\n",
        "FROM subscriptions\n",
        "CROSS JOIN months),\n",
        "status AS\n",
        "(SELECT id, first_day as month,\n",
        "CASE\n",
        "  WHEN (subscription_start < first_day)\n",
        "    AND (\n",
        "      subscription_end > first_day\n",
        "      OR subscription_end IS NULL\n",
        "    ) THEN 1\n",
        "  ELSE 0\n",
        "END as is_active,\n",
        "CASE \n",
        "  WHEN subscription_end BETWEEN first_day AND last_day THEN 1\n",
        "  ELSE 0\n",
        "END as is_canceled\n",
        "FROM cross_join),\n",
        "status_aggregate AS\n",
        "(SELECT\n",
        "  month,\n",
        "  SUM(is_active) as active,\n",
        "  SUM(is_canceled) as canceled\n",
        "FROM status\n",
        "GROUP BY month)\n",
        "SELECT month,\n",
        "1.0*canceled/active AS churn_rate\n",
        "FROM status_aggregate"
      ],
      "metadata": {
        "id": "7PU4fLnjv4WX"
      },
      "execution_count": null,
      "outputs": []
    },
    {
      "cell_type": "code",
      "source": [
        "WITH months AS\n",
        "(SELECT\n",
        "  '2017-01-01' as first_day,\n",
        "  '2017-01-31' as last_day\n",
        "UNION\n",
        "SELECT\n",
        "  '2017-02-01' as first_day,\n",
        "  '2017-02-28' as last_day\n",
        "UNION\n",
        "SELECT\n",
        "  '2017-03-01' as first_day,\n",
        "  '2017-03-31' as last_day\n",
        "),\n",
        "cross_join AS\n",
        "(SELECT *\n",
        "FROM subscriptions\n",
        "CROSS JOIN months),\n",
        "status AS\n",
        "(SELECT\n",
        "  id,\n",
        "  first_day AS month, \n",
        "  CASE\n",
        "  WHEN (subscription_start < first_day)\n",
        "    AND (\n",
        "      subscription_end > first_day\n",
        "      OR subscription_end IS NULL\n",
        "    ) \n",
        "    AND (segment = '87')\n",
        "    THEN 1\n",
        "  ELSE 0\n",
        "END as is_active_87,\n",
        "  CASE\n",
        "  WHEN (subscription_start < first_day)\n",
        "    AND (\n",
        "      subscription_end > first_day\n",
        "      OR subscription_end IS NULL\n",
        "    ) \n",
        "    AND (segment = '30')\n",
        "    THEN 1\n",
        "  ELSE 0\n",
        "END as is_active_30,\n",
        "CASE \n",
        "  WHEN subscription_end BETWEEN first_day AND last_day AND (segment = '30') THEN 1\n",
        "  ELSE 0\n",
        "END as is_canceled_30,\n",
        "CASE \n",
        "  WHEN subscription_end BETWEEN first_day AND last_day AND (segment = '87') THEN 1\n",
        "  ELSE 0\n",
        "END as is_canceled_87\n",
        "FROM cross_join),\n",
        "status_aggregate AS\n",
        "(SELECT\n",
        "  month,\n",
        "  SUM(is_active_87) as active_87, SUM(is_active_30) as active_30,\n",
        "  SUM(is_canceled_87) as canceled_87, SUM(is_canceled_30) as canceled_30\n",
        "FROM status\n",
        "GROUP BY month)\n",
        "SELECT month,\n",
        "1.0*canceled_87/active_87 AS churn_rate_87,\n",
        "1.0*canceled_30/active_30 AS churn_rate_30\n",
        "FROM status_aggregate"
      ],
      "metadata": {
        "id": "NnEa-Zav4eVr"
      },
      "execution_count": null,
      "outputs": []
    },
    {
      "cell_type": "code",
      "source": [
        "WITH first_touch AS (\n",
        "   SELECT user_id,\n",
        "      MIN(timestamp) AS 'first_touch_at'\n",
        "   FROM page_visits\n",
        "   GROUP BY user_id)\n",
        "SELECT ft.user_id,\n",
        "  ft.first_touch_at,\n",
        "  pv.utm_source\n",
        "FROM first_touch AS 'ft'\n",
        "JOIN page_visits AS 'pv'\n",
        "  ON ft.user_id = pv.user_id\n",
        "  AND ft.first_touch_at = pv.timestamp;"
      ],
      "metadata": {
        "id": "_cYPE_3lZJ-8"
      },
      "execution_count": null,
      "outputs": []
    },
    {
      "cell_type": "code",
      "source": [
        "WITH first_touch AS (\n",
        "    SELECT user_id,\n",
        "        MIN(timestamp) as first_touch_at\n",
        "    FROM page_visits\n",
        "    GROUP BY user_id)\n",
        "SELECT ft.user_id,\n",
        "    ft.first_touch_at,\n",
        "    pv.utm_source,\n",
        "\t\tpv.utm_campaign\n",
        "FROM first_touch ft\n",
        "JOIN page_visits pv\n",
        "    ON ft.user_id = pv.user_id\n",
        "    AND ft.first_touch_at = pv.timestamp;"
      ],
      "metadata": {
        "id": "tUY8Uxv6kQ17"
      },
      "execution_count": null,
      "outputs": []
    },
    {
      "cell_type": "code",
      "source": [
        "WITH first_touch AS\n",
        "(\n",
        "  SELECT user_id,\n",
        "        MIN(timestamp) as first_touch_at\n",
        "    FROM page_visits\n",
        "    GROUP BY user_id\n",
        "    )\n",
        "SELECT    \n",
        "\t\tpv.utm_campaign, COUNT (ft.first_touch_at)\n",
        "FROM first_touch ft\n",
        "JOIN page_visits pv\n",
        "    ON ft.user_id = pv.user_id\n",
        "    AND ft.first_touch_at = pv.timestamp\n",
        "GROUP BY utm_campaign"
      ],
      "metadata": {
        "id": "kbjruHNSs9kp"
      },
      "execution_count": null,
      "outputs": []
    },
    {
      "cell_type": "code",
      "source": [
        "# How many last touches is each campaign responsible for?\n",
        "WITH last_touch AS\n",
        "(\n",
        "  SELECT user_id,\n",
        "        MAX(timestamp) as last_touch_at\n",
        "    FROM page_visits\n",
        "    GROUP BY user_id\n",
        "    )\n",
        "SELECT    \n",
        "\t\tpv.utm_campaign, COUNT (lt.last_touch_at)\n",
        "FROM last_touch lt\n",
        "JOIN page_visits pv\n",
        "    ON lt.user_id = pv.user_id\n",
        "    AND lt.last_touch_at = pv.timestamp\n",
        "GROUP BY utm_campaign"
      ],
      "metadata": {
        "id": "TIeuyQ7VtlGr"
      },
      "execution_count": null,
      "outputs": []
    },
    {
      "cell_type": "code",
      "source": [
        "# How many visitors make a purchase?\n",
        "SELECT COUNT(DISTINCT user_id)\n",
        "FROM page_visits\n",
        "WHERE page_name = '4 - purchase'"
      ],
      "metadata": {
        "id": "WfqtfnkTugsc"
      },
      "execution_count": null,
      "outputs": []
    },
    {
      "cell_type": "code",
      "source": [
        "# How many last touches on the purchase page is each campaign responsible for?\n",
        "WITH last_touch AS\n",
        "(\n",
        "  SELECT user_id,\n",
        "        MAX(timestamp) as last_touch_at\n",
        "    FROM page_visits\n",
        "    WHERE page_name = '4 - purchase'\n",
        "    GROUP BY user_id\n",
        "    )\n",
        "SELECT    \n",
        "\t\tpv.utm_campaign, COUNT (lt.last_touch_at)\n",
        "FROM last_touch lt\n",
        "JOIN page_visits pv\n",
        "    ON lt.user_id = pv.user_id\n",
        "    AND lt.last_touch_at = pv.timestamp\n",
        "GROUP BY utm_campaign"
      ],
      "metadata": {
        "id": "kfMotDSIvUzE"
      },
      "execution_count": null,
      "outputs": []
    },
    {
      "cell_type": "code",
      "source": [
        "# CoolTShirts can re-invest in 5 campaigns. Given your findings in the project, which should they pick and why?\n",
        "WITH last_touch AS\n",
        "(\n",
        "  SELECT user_id,\n",
        "        MAX(timestamp) as last_touch_at\n",
        "    FROM page_visits\n",
        "    WHERE page_name = '4 - purchase'\n",
        "    GROUP BY user_id\n",
        "    )\n",
        "SELECT    \n",
        "\t\tpv.utm_campaign, COUNT (lt.last_touch_at)\n",
        "FROM last_touch lt\n",
        "JOIN page_visSELECT month,\n",
        "  change_in_followers,\n",
        "  AVG(change_in_followers) OVER (\n",
        "    ORDER BY month\n",
        "  ) AS running_avg\n",
        "FROM social_media\n",
        "WHERE username = 'instagram';its pv\n",
        "    ON lt.user_id = pv.user_id\n",
        "    AND lt.last_touch_at = pv.timestamp\n",
        "GROUP BY utm_campaign\n",
        "ORDER BY COUNT (lt.last_touch_at) DESC\n",
        "LIMIT 5"
      ],
      "metadata": {
        "id": "X9bO4BPAvyzq"
      },
      "execution_count": null,
      "outputs": []
    },
    {
      "cell_type": "markdown",
      "source": [
        "Windows functions"
      ],
      "metadata": {
        "id": "5c4KKvFg25ZJ"
      }
    },
    {
      "cell_type": "code",
      "source": [
        "SELECT \n",
        "   month,\n",
        "   change_in_followers,\n",
        "   SUM(change_in_followers) OVER (\n",
        "      ORDER BY month\n",
        "   ) AS 'running_total'\n",
        "FROM\n",
        "   social_media\n",
        "WHERE\n",
        "   username = 'instagram';"
      ],
      "metadata": {
        "id": "-eP7xOfU28qc"
      },
      "execution_count": null,
      "outputs": []
    },
    {
      "cell_type": "code",
      "source": [
        "SELECT month,\n",
        "  change_in_followers,\n",
        "  AVG(change_in_followers) OVER (\n",
        "    ORDER BY month\n",
        "  ) AS running_avg\n",
        "FROM social_media\n",
        "WHERE username = 'instagram';"
      ],
      "metadata": {
        "id": "xoMCWORC3vlF"
      },
      "execution_count": null,
      "outputs": []
    },
    {
      "cell_type": "code",
      "source": [
        "SELECT \n",
        "   month,\n",
        "   change_in_followers,\n",
        "   SUM(change_in_followers) OVER (\n",
        "      ORDER BY month\n",
        "   ) AS 'running_total',\n",
        "   AVG(change_in_followers) OVER (\n",
        "      ORDER BY month\n",
        "   ) AS 'running_avg',\n",
        "   COUNT(change_in_followers) OVER (\n",
        "      ORDER BY month\n",
        "   ) AS 'running_count'\n",
        "FROM\n",
        "   social_media\n",
        "WHERE\n",
        "   username = 'instagram';"
      ],
      "metadata": {
        "id": "mVTEhekn4OqL"
      },
      "execution_count": null,
      "outputs": []
    },
    {
      "cell_type": "code",
      "source": [
        "SELECT \n",
        "    username,\n",
        "    month,\n",
        "    change_in_followers,\n",
        "    SUM(change_in_followers) OVER (\n",
        "      PARTITION BY username \n",
        "      ORDER BY month\n",
        "    ) 'running_total_followers_change'\n",
        "FROM\n",
        "    social_media;"
      ],
      "metadata": {
        "id": "OkaXJb2W5Orb"
      },
      "execution_count": null,
      "outputs": []
    },
    {
      "cell_type": "code",
      "source": [
        "SELECT \n",
        "    username,\n",
        "    month,\n",
        "    change_in_followers,\n",
        "    SUM(change_in_followers) OVER (\n",
        "      PARTITION BY username \n",
        "      ORDER BY month\n",
        "    ) 'running_total_followers_change',\n",
        "    AVG(change_in_followers) OVER (\n",
        "      PARTITION BY username \n",
        "      ORDER BY month\n",
        "    ) 'running_avg_followers_change'\n",
        "FROM\n",
        "    social_media;"
      ],
      "metadata": {
        "id": "Gtt3yFKu58Hp"
      },
      "execution_count": null,
      "outputs": []
    },
    {
      "cell_type": "code",
      "source": [
        "SELECT\n",
        "   username,\n",
        "   posts,\n",
        "   FIRST_VALUE (posts) OVER (\n",
        "      PARTITION BY username \n",
        "      ORDER BY posts\n",
        "   ) fewest_posts\n",
        "FROM\n",
        "   social_media;"
      ],
      "metadata": {
        "id": "xU5KeAn69Yvx"
      },
      "execution_count": null,
      "outputs": []
    },
    {
      "cell_type": "code",
      "source": [
        "SELECT\n",
        "   username,\n",
        "   posts,\n",
        "   LAST_VALUE (posts) OVER (\n",
        "      PARTITION BY username \n",
        "      ORDER BY posts\n",
        "      RANGE BETWEEN UNBOUNDED PRECEDING AND \n",
        "      UNBOUNDED FOLLOWING\n",
        "    ) most_posts\n",
        "FROM\n",
        "    social_media;"
      ],
      "metadata": {
        "id": "ccre46Jm-Qx9"
      },
      "execution_count": null,
      "outputs": []
    },
    {
      "cell_type": "markdown",
      "source": [
        "LAG takes up to three arguments:\n",
        "\n",
        "column (required)\n",
        "offset (optional, default 1 row offset) default (optional, what to replace default null values with) - so it is '0' to put instead of null, but can be '99'"
      ],
      "metadata": {
        "id": "_nYovdD3_dhM"
      }
    },
    {
      "cell_type": "code",
      "source": [
        "SELECT\n",
        "   artist,\n",
        "   week,\n",
        "   streams_millions,\n",
        "   LAG(streams_millions, 1, 0) OVER (\n",
        "      ORDER BY week \n",
        "   ) previous_week_streams \n",
        "FROM\n",
        "   streams \n",
        "WHERE\n",
        "   artist = 'Lady Gaga';"
      ],
      "metadata": {
        "id": "QBS7VjCB_dvW"
      },
      "execution_count": null,
      "outputs": []
    },
    {
      "cell_type": "code",
      "source": [
        "SELECT\n",
        "   artist,\n",
        "   week,\n",
        "   streams_millions,\n",
        "   streams_millions - LAG(streams_millions, 1, streams_millions) OVER ( \n",
        "      ORDER BY week \n",
        "   ) streams_millions_change\n",
        "FROM\n",
        "   streams \n",
        "WHERE\n",
        "   artist = 'Lady Gaga';"
      ],
      "metadata": {
        "id": "DsFcLbK1_-g6"
      },
      "execution_count": null,
      "outputs": []
    },
    {
      "cell_type": "code",
      "source": [
        "SELECT\n",
        "   artist,\n",
        "   week,\n",
        "   streams_millions,\n",
        "   streams_millions - LAG(streams_millions, 1, streams_millions) OVER ( \n",
        "      PARTITION BY artist\n",
        "      ORDER BY week \n",
        "   ) AS 'streams_millions_change',\n",
        "   chart_position,\n",
        "   LAG(chart_position, 1, chart_position) OVER ( \n",
        "      PARTITION BY artist\n",
        "      ORDER BY week \n",
        ") - chart_position AS 'chart_position_change'\n",
        "FROM\n",
        "   streams\n",
        "WHERE \n",
        "   artist = 'Lady Gaga';"
      ],
      "metadata": {
        "id": "j7yPzQtaBp7N"
      },
      "execution_count": null,
      "outputs": []
    },
    {
      "cell_type": "code",
      "source": [
        "SELECT\n",
        "   artist,\n",
        "   week,\n",
        "   streams_millions,\n",
        "   LEAD(streams_millions, 1) OVER (\n",
        "      PARTITION BY artist\n",
        "      ORDER BY week\n",
        "   ) - streams_millions AS 'streams_millions_change'\n",
        "FROM\n",
        "   streams;"
      ],
      "metadata": {
        "id": "pg3JPpce2o3m"
      },
      "execution_count": null,
      "outputs": []
    },
    {
      "cell_type": "code",
      "source": [
        "SELECT\n",
        "   artist,\n",
        "   week,\n",
        "   streams_millions,\n",
        "   LEAD(streams_millions, 1) OVER (\n",
        "      PARTITION BY artist\n",
        "      ORDER BY week\n",
        "   ) - streams_millions AS 'streams_millions_change',\n",
        "   chart_position,\n",
        "   chart_position -\n",
        "   LEAD(chart_position, 1) OVER (PARTITION BY artist ORDER BY week) AS 'chart_position_change' \n",
        "FROM\n",
        "   streams;"
      ],
      "metadata": {
        "id": "Owk1wE3k481j"
      },
      "execution_count": null,
      "outputs": []
    },
    {
      "cell_type": "code",
      "source": [
        "SELECT \n",
        "   ROW_NUMBER() OVER (\n",
        "      ORDER BY streams_millions\n",
        "   ) AS 'row_num', \n",
        "   artist, \n",
        "   week,\n",
        "   streams_millions\n",
        "FROM\n",
        "   streams;"
      ],
      "metadata": {
        "id": "WMx-I51d6dDn"
      },
      "execution_count": null,
      "outputs": []
    },
    {
      "cell_type": "code",
      "source": [
        "SELECT \n",
        "   ROW_NUMBER() OVER (\n",
        "      ORDER BY streams_millions DESC\n",
        "   ) AS 'row_num', \n",
        "   artist, \n",
        "   week,\n",
        "   streams_millions\n",
        "FROM\n",
        "   streams;"
      ],
      "metadata": {
        "id": "q0PkuvP-8ssZ"
      },
      "execution_count": null,
      "outputs": []
    },
    {
      "cell_type": "code",
      "source": [
        "# ROW is always sequential while RANK can display equal results as tied.\n",
        "# RANK - if same value, the rank number will be the same, and nex one is not used (so if 2 7th, next is 9th)\n",
        "SELECT \n",
        "   RANK() OVER (\n",
        "      ORDER BY streams_millions\n",
        "   ) AS 'rank', \n",
        "   artist, \n",
        "   week,\n",
        "   streams_millions\n",
        "FROM\n",
        "   streams;"
      ],
      "metadata": {
        "id": "llsmjom189Ma"
      },
      "execution_count": null,
      "outputs": []
    },
    {
      "cell_type": "code",
      "source": [
        "SELECT \n",
        "   RANK() OVER (PARTITION BY week\n",
        "      ORDER BY streams_millions DESC\n",
        "   ) AS 'rank', \n",
        "   artist, \n",
        "   week,\n",
        "   streams_millions\n",
        "FROM\n",
        "   streams;"
      ],
      "metadata": {
        "id": "6Koj3jrO9ygt"
      },
      "execution_count": null,
      "outputs": []
    },
    {
      "cell_type": "markdown",
      "source": [
        "NTILE\n",
        "The last window function we are going to learn is called NTILE and this can be used to find quartiles, quintiles or whatever ntile your data-driven heart desires.\n",
        "\n",
        "NTILE allows you to break your data into roughly equal groups, based on what ntile you’d like: so if you were using quartile, it would divide the data into four groups (quarters).\n",
        "\n",
        "When using NTILE you are required to provide a bucket, which represents the number of groups you’d like your data broken down into: NTILE(4) would be four “buckets” which would represent quartiles."
      ],
      "metadata": {
        "id": "LjYemmaz-Upg"
      }
    },
    {
      "cell_type": "code",
      "source": [
        "SELECT \n",
        "   NTILE(5) OVER (\n",
        "      ORDER BY streams_millions DESC\n",
        "   ) AS 'weekly_streams_group', \n",
        "   artist, \n",
        "   week,\n",
        "   streams_millions\n",
        "FROM\n",
        "   streams;"
      ],
      "metadata": {
        "id": "pjy2ytIj-VUz"
      },
      "execution_count": null,
      "outputs": []
    },
    {
      "cell_type": "code",
      "source": [
        "SELECT \n",
        "   NTILE(4) OVER (PARTITION BY week\n",
        "      ORDER BY streams_millions DESC\n",
        "   ) AS 'weekly_streams_group', \n",
        "   artist, \n",
        "   week,\n",
        "   streams_millions\n",
        "FROM\n",
        "   streams;"
      ],
      "metadata": {
        "id": "4CYBsSNgAFXl"
      },
      "execution_count": null,
      "outputs": []
    },
    {
      "cell_type": "markdown",
      "source": [
        "Date and Time Functions I"
      ],
      "metadata": {
        "id": "p0Mj_GR4b8wV"
      }
    },
    {
      "cell_type": "code",
      "source": [
        "SELECT DATETIME('2020-09-01 17:38:22');\n",
        "SELECT DATETIME('now');\n",
        "SELECT DATETIME('now', 'localtime');\n",
        "SELECT DATE('2020-09-01 17:38:22'); -- 2020-09-01\n",
        "SELECT TIME('2020-09-01 17:38:22'); -- 17:38:22\n",
        "\n",
        "SELECT DATETIME(timestring, modifier1, modifier2, ...);"
      ],
      "metadata": {
        "id": "JQ8EPAJtb-Pk"
      },
      "execution_count": null,
      "outputs": []
    },
    {
      "cell_type": "markdown",
      "source": [
        "The following modifiers can be used to shift the date backwards to a specified part of the date.\n",
        "\n",
        "start of year: shifts the date to the beginning of the current year.\n",
        "start of month: shifts the date to the beginning of the current month.\n",
        "start of day: shifts the date to the beginning of the current day.\n",
        "For example, the following returns the beginning of September 2005."
      ],
      "metadata": {
        "id": "oNxZKPancU5k"
      }
    },
    {
      "cell_type": "code",
      "source": [
        "SELECT DATE('2005-09-15', 'start of month'); -- 2005-09-01"
      ],
      "metadata": {
        "id": "S2nqU3HLcWCM"
      },
      "execution_count": null,
      "outputs": []
    },
    {
      "cell_type": "markdown",
      "source": [
        "The following modifiers add a specified amount to the date and time of the time string.\n",
        "\n",
        "'+-N years': offsets the year\n",
        "'+-N months': offsets the month\n",
        "'+-N days': offsets the day\n",
        "'+-N hours': offsets the hour\n",
        "'+-N minutes': offsets the minute\n",
        "'+-N seconds': offsets the second"
      ],
      "metadata": {
        "id": "GdFdPrNGck40"
      }
    },
    {
      "cell_type": "code",
      "source": [
        "SELECT DATETIME('2020-02-10', 'start of month', '-1 day', '+7 hours'); -- 2020-01-31 07:00:00"
      ],
      "metadata": {
        "id": "OjlSdYW4csg8"
      },
      "execution_count": null,
      "outputs": []
    },
    {
      "cell_type": "markdown",
      "source": [
        "For each order in the bakery table, the order will be ready for pick up 2 days after the order is made, at 7:00AM, 7 days a week. The order will always be ready 2 days after the order, no matter what time of day the order was made.\n",
        "\n",
        "Utilizing the date and time functions and some modifiers, find out when each order can be picked up."
      ],
      "metadata": {
        "id": "iy6PnVIweOF6"
      }
    },
    {
      "cell_type": "code",
      "source": [
        "SELECT DATETIME(order_date, 'start of day', '+2 days', '+7 hours')\n",
        "FROM bakery;"
      ],
      "metadata": {
        "id": "oao90-QQeOeE"
      },
      "execution_count": null,
      "outputs": []
    },
    {
      "cell_type": "markdown",
      "source": [
        "The STRFTIME() function allows you to return a formatted date, as specified in a format string."
      ],
      "metadata": {
        "id": "jx3vOLAueYCc"
      }
    },
    {
      "cell_type": "code",
      "source": [
        "STRFTIME(format, timestring, modifier1, modifier2, ...)"
      ],
      "metadata": {
        "id": "3P8eOd6ueZpm"
      },
      "execution_count": null,
      "outputs": []
    },
    {
      "cell_type": "markdown",
      "source": [
        "The first argument, format, is the format string.\n",
        "\n",
        "The second argument is the timestring.\n",
        "\n",
        "The remaining arguments are 0 or more optional modifiers to transform the time string.\n",
        "\n",
        "Let’s go into some more detail about the format string. The format string allows you to extract specific parts of the date and time. Recall the time string format of YYYY-MM-DD HH:MM:SS. Each part of this time string can be extracted utilizing what are known as substitutions inside the format string.\n",
        "\n",
        "The substitutions to extract each part of the date and time are the following:\n",
        "\n",
        "%Y returns the year (YYYY)\n",
        "%m returns the month (01-12)\n",
        "%d returns the day of month (01-31)\n",
        "%H returns the hour (00-23)\n",
        "%M returns the minute (00-59)\n",
        "%S returns the second (00-59)"
      ],
      "metadata": {
        "id": "G3tf-3SQerOV"
      }
    },
    {
      "cell_type": "code",
      "source": [
        "SELECT STRFTIME('%m %Y', 'now'); --11 2022 -- now is 2nd of November 2022\n",
        "SELECT STRFTIME('%d', 'now'); -- 02"
      ],
      "metadata": {
        "id": "_s2s3jY_esuk"
      },
      "execution_count": null,
      "outputs": []
    },
    {
      "cell_type": "markdown",
      "source": [
        "The owners of the bakery want to find out what day most people placed orders.\n",
        "\n",
        "Use STRFTIME() with the COUNT() function to find out how many orders were made on each day. Show the results in descending order based on the daily number of orders."
      ],
      "metadata": {
        "id": "88NfdCVtfua9"
      }
    },
    {
      "cell_type": "code",
      "source": [
        "SELECT STRFTIME('%d', order_date), COUNT (STRFTIME('%d', order_date)) \n",
        "from bakery\n",
        "GROUP BY STRFTIME('%d', order_date)\n",
        "ORDER BY COUNT (STRFTIME('%d', order_date)) DESC"
      ],
      "metadata": {
        "id": "TbgqlsQEfvTM"
      },
      "execution_count": null,
      "outputs": []
    },
    {
      "cell_type": "markdown",
      "source": [
        "Math operators:\n",
        "\n",
        "+ Addition\n",
        "- Subtraction\n",
        "/ Division\n",
        "* Multiplication\n",
        "% Modulo\n",
        "Math functions:\n",
        "\n",
        "ABS(): Gives us the absolute value of the input expression\n",
        "\n",
        "CAST(): Converts the value of an expression into another data type\n",
        "\n",
        "Date functions:\n",
        "\n",
        "DATETIME(): Obtains the date and time of a time string\n",
        "\n",
        "DATE(): Obtains the date portion of a time string\n",
        "\n",
        "TIME(): Obtains the time portion of a time string\n",
        "\n",
        "STRFTIME(): Returns a formatted date\n",
        "\n",
        "Date function modifiers:\n",
        "\n",
        "Modifiers to shift the date backwards to a specified part:\n",
        "'start of year'\n",
        "'start of month'\n",
        "'start of day'\n",
        "Modifiers to add a specified amount to the date and time of a time string:\n",
        "'+-N years'\n",
        "'+-N months'\n",
        "'+-N days'\n",
        "'+-N hours'\n",
        "'+-N minutes'\n",
        "'+-N seconds'\n",
        "Format string substitutions:\n",
        "\n",
        "%Y returns the year (YYYY)\n",
        "%m returns the month (01-12)\n",
        "%d returns the day of month (01-31)\n",
        "%H returns the hour (00-23)\n",
        "%M returns the minute (00-59)\n",
        "%S returns the second (00-59)"
      ],
      "metadata": {
        "id": "v3naUOIsf7L8"
      }
    },
    {
      "cell_type": "markdown",
      "source": [
        "et’s start by looking at how the average temperature changes over time in each state.\n",
        "\n",
        "Write a query that returns the state, year, tempf or tempc, and running_avg_temp (in either Celsius or Fahrenheit) for each state.\n",
        "\n",
        "(The running_avg_temp should use a window function.)"
      ],
      "metadata": {
        "id": "cvawUaoZjdTE"
      }
    },
    {
      "cell_type": "code",
      "source": [
        "SELECT state, year, tempc,\n",
        "AVG (tempc)\n",
        "OVER (PARTITION BY state ORDER BY year) running_avg_temp\n",
        "FROM state_climate"
      ],
      "metadata": {
        "id": "nc46YjDxf8H0"
      },
      "execution_count": null,
      "outputs": []
    },
    {
      "cell_type": "markdown",
      "source": [
        "Now let’s explore the lowest temperatures for each state.\n",
        "\n",
        "Write a query that returns state, year, tempf or tempc, and the lowest temperature (lowest_temp) for each state.\n",
        "\n",
        "Are the lowest recorded temps for each state more recent or more historic?"
      ],
      "metadata": {
        "id": "qByOt3m4jiKN"
      }
    },
    {
      "cell_type": "code",
      "source": [
        "SELECT state, year, tempc,\n",
        "FIRST_VALUE (tempc)\n",
        "OVER (PARTITION BY state ORDER BY tempc) lowest_temp\n",
        "FROM state_climate"
      ],
      "metadata": {
        "id": "P9YFmSgrjlkF"
      },
      "execution_count": null,
      "outputs": []
    },
    {
      "cell_type": "markdown",
      "source": [
        "\n",
        "Like before, write a query that returns state, year, tempf or tempc, except now we will also return the highest temperature (highest_temp) for each state.\n",
        "\n",
        "Are the highest recorded temps for each state more recent or more historic?"
      ],
      "metadata": {
        "id": "mbDQXnrxk-Z1"
      }
    },
    {
      "cell_type": "code",
      "source": [
        "SELECT state, year, tempc,\n",
        "LAST_VALUE (tempc)\n",
        "OVER (PARTITION BY state ORDER BY tempc RANGE BETWEEN UNBOUNDED PRECEDING AND UNBOUNDED FOLLOWING) highest_temp\n",
        "FROM state_climate\n",
        "ORDER BY state, tempc DESC"
      ],
      "metadata": {
        "id": "Yr7j8awKk9dF"
      },
      "execution_count": null,
      "outputs": []
    },
    {
      "cell_type": "markdown",
      "source": [
        "Let’s see how temperature has changed each year in each state.\n",
        "\n",
        "Write a query to select the same columns but now you should write a window function that returns the change_in_temp from the previous year (no null values should be returned).\n",
        "\n",
        "Which states and years saw the largest changes in temperature?\n",
        "Is there a particular part of the United States that saw the largest yearly changes in temperature?"
      ],
      "metadata": {
        "id": "5eCaTo1fS0Cn"
      }
    },
    {
      "cell_type": "code",
      "source": [
        "SELECT state, year, tempc,\n",
        "tempc - LAG(tempc, 1, tempc)\n",
        "OVER (PARTITION BY state ORDER BY year ) change_in_temp\n",
        "FROM state_climate\n",
        "ORDER BY change_in_temp DESC"
      ],
      "metadata": {
        "id": "9hyaqtVkSymg"
      },
      "execution_count": null,
      "outputs": []
    },
    {
      "cell_type": "markdown",
      "source": [
        "Write a query to return a rank of the coldest temperatures on record (coldest_rank) along with year, state, and tempf or tempc. Are the coldest ranked years recent or historic? The coldest years should be from any state or year. This will require you to use the RANK window function with ORDER BY on tempf or tempc. Because we want to see the overall coldest for any state or year, we do not need to partition the data."
      ],
      "metadata": {
        "id": "OiGE03SWVY5K"
      }
    },
    {
      "cell_type": "code",
      "source": [
        "SELECT state, year, tempc,\n",
        "RANK()\n",
        "OVER (ORDER BY tempc) coldest_rank\n",
        "FROM state_climate"
      ],
      "metadata": {
        "id": "nAJXuLlKVc-g"
      },
      "execution_count": null,
      "outputs": []
    },
    {
      "cell_type": "markdown",
      "source": [
        "Modify your coldest_rank query to now instead return the warmest_rank for each state, meaning your query should return the warmest temp/year for each state. Again, are the warmest temperatures more recent or historic for each state?"
      ],
      "metadata": {
        "id": "_HuMq_hjVusQ"
      }
    },
    {
      "cell_type": "code",
      "source": [
        "SELECT state, year, tempc,\n",
        "RANK()\n",
        "OVER (PARTITION BY state\n",
        "  ORDER BY tempc DESC) warmest_rank\n",
        "FROM state_climate"
      ],
      "metadata": {
        "id": "fV_HwG-7WFIg"
      },
      "execution_count": null,
      "outputs": []
    },
    {
      "cell_type": "code",
      "source": [
        "# if we only wish to see 1 row with the warmest temperature per state\n",
        "WITH temp_data AS\n",
        "(SELECT state, year, tempc,\n",
        "RANK()\n",
        "OVER (PARTITION BY state\n",
        "  ORDER BY tempc DESC) warmest_rank\n",
        "FROM state_climate) \n",
        "\n",
        "SELECT * FROM temp_data\n",
        "WHERE warmest_rank = 1"
      ],
      "metadata": {
        "id": "p0Hh4vG0XhoB"
      },
      "execution_count": null,
      "outputs": []
    },
    {
      "cell_type": "markdown",
      "source": [
        "Let’s now write a query that will return the average yearly temperatures in quartiles instead of in rankings for each state.\n",
        "\n",
        "Your query should return quartile, year, state and tempf or tempc. The top quartile should be the coldest years.\n",
        "\n",
        "Are the coldest years more recent or historic?"
      ],
      "metadata": {
        "id": "UUyi36DIWGJR"
      }
    },
    {
      "cell_type": "code",
      "source": [
        "SELECT \n",
        "NTILE(4)\n",
        "OVER (PARTITION BY state ORDER BY tempc) quartile,\n",
        "year, state, tempc\n",
        "FROM state_climate"
      ],
      "metadata": {
        "id": "MQzbyq7rWhUw"
      },
      "execution_count": null,
      "outputs": []
    },
    {
      "cell_type": "markdown",
      "source": [
        "Lastly, we will write a query that will return the average yearly temperatures in quintiles (5).\n",
        "\n",
        "Your query should return quintile, year, state and tempf or tempc. The top quintile should be the coldest years overall, not by state.\n",
        "\n",
        "What is different about the coldest quintile now?"
      ],
      "metadata": {
        "id": "BJuR6QoxY8JI"
      }
    },
    {
      "cell_type": "code",
      "source": [
        "SELECT \n",
        "NTILE(5)\n",
        "OVER (ORDER BY tempc) quintile,\n",
        "year, state, tempc\n",
        "FROM state_climate"
      ],
      "metadata": {
        "id": "CnMFFOFGY8WY"
      },
      "execution_count": null,
      "outputs": []
    },
    {
      "cell_type": "markdown",
      "source": [
        "INTERVIEW PREP PROBLEMS\n",
        "Coding Challenge 1"
      ],
      "metadata": {
        "id": "bx-ptiPianew"
      }
    },
    {
      "cell_type": "markdown",
      "source": [
        "Select the title, author, and average_rating of each book with an average_rating between 3.5 and 4.5."
      ],
      "metadata": {
        "id": "ZRkQlPALapsQ"
      }
    },
    {
      "cell_type": "code",
      "source": [
        "SELECT \n",
        "title, author, \n",
        "average_rating\n",
        "FROM books\n",
        "WHERE average_rating BETWEEN 3.5 AND 4.5"
      ],
      "metadata": {
        "id": "yKXnn34-aoSg"
      },
      "execution_count": null,
      "outputs": []
    },
    {
      "cell_type": "markdown",
      "source": [
        "Select all the unique authors from the table."
      ],
      "metadata": {
        "id": "7JHbcQ6Hau8w"
      }
    },
    {
      "cell_type": "code",
      "source": [
        "SELECT \n",
        "DISTINCT author\n",
        "FROM books"
      ],
      "metadata": {
        "id": "Mo1u73pJaxOZ"
      },
      "execution_count": null,
      "outputs": []
    },
    {
      "cell_type": "markdown",
      "source": [
        "Given the final scores of several NBA games, use CASE to return the results for each game:\n",
        "\n",
        "If home team won, return ‘HOME WIN’.\n",
        "If away team won, return ‘AWAY WIN’.\n",
        "Select the id column and the CASE result."
      ],
      "metadata": {
        "id": "FeUhobvka_DY"
      }
    },
    {
      "cell_type": "code",
      "source": [
        "SELECT id,\n",
        "CASE\n",
        "WHEN home_points > away_points\n",
        "THEN 'HOME WIN'\n",
        "WHEN home_points < away_points\n",
        "THEN 'AWAY WIN'\n",
        "END \n",
        "FROM nba_matches"
      ],
      "metadata": {
        "id": "_e2cW_ZKa-QY"
      },
      "execution_count": null,
      "outputs": []
    },
    {
      "cell_type": "markdown",
      "source": [
        "The apps table has the following columns:\n",
        "\n",
        "id - the app id\n",
        "name - the app name\n",
        "genre - the genre of the app\n",
        "rating - the app rating\n",
        "reviews - the number of reviews\n",
        "Instructions\n",
        "1.\n",
        "Find the number of apps by genre."
      ],
      "metadata": {
        "id": "nqnalvhXb9du"
      }
    },
    {
      "cell_type": "code",
      "source": [
        "SELECT genre, COUNT (name)\n",
        "FROM apps\n",
        "GROUP BY genre"
      ],
      "metadata": {
        "id": "q4arFOTTcyXF"
      },
      "execution_count": null,
      "outputs": []
    },
    {
      "cell_type": "markdown",
      "source": [
        "Get the total number of reviews of all apps by genre.\n",
        "\n",
        "Limit the results for genres where the total number of app reviews is over 30 million."
      ],
      "metadata": {
        "id": "HN4uIs18d0u0"
      }
    },
    {
      "cell_type": "code",
      "source": [
        "SELECT genre, SUM(reviews) \n",
        "FROM apps\n",
        "GROUP BY genre\n",
        "HAVING SUM(reviews) > 30000000;"
      ],
      "metadata": {
        "id": "iAA_-871cz01"
      },
      "execution_count": null,
      "outputs": []
    },
    {
      "cell_type": "markdown",
      "source": [
        "Select the name, genre, and rating of apps in descending order of their rating, and limit the result to 20 rows."
      ],
      "metadata": {
        "id": "SlCC5_SVd98y"
      }
    },
    {
      "cell_type": "code",
      "source": [
        "SELECT\n",
        "name, genre, rating\n",
        "FROM apps\n",
        "ORDER BY rating DESC\n",
        "LIMIT 20"
      ],
      "metadata": {
        "id": "NyUg35wdd8uJ"
      },
      "execution_count": null,
      "outputs": []
    },
    {
      "cell_type": "markdown",
      "source": [
        "Find the lowest and highest rating for all apps using two different queries."
      ],
      "metadata": {
        "id": "EfLsN8C8ePyU"
      }
    },
    {
      "cell_type": "code",
      "source": [
        "SELECT MIN (rating)\n",
        "FROM apps;\n",
        "SELECT\n",
        "MAX (rating)\n",
        "FROM apps;"
      ],
      "metadata": {
        "id": "F3pktvBUeuhk"
      },
      "execution_count": null,
      "outputs": []
    },
    {
      "cell_type": "markdown",
      "source": [
        "Get the average rating of all apps, rounded to 2 decimal places. Alias the result column as ‘average rating’."
      ],
      "metadata": {
        "id": "sZ5LyCtsfL0r"
      }
    },
    {
      "cell_type": "code",
      "source": [
        "SELECT ROUND (AVG(rating), 2) AS 'average rating'\n",
        "FROM apps;"
      ],
      "metadata": {
        "id": "pNaEuAVyfMeT"
      },
      "execution_count": null,
      "outputs": []
    },
    {
      "cell_type": "markdown",
      "source": [
        "The projects table has the following columns:\n",
        "\n",
        "id - the project id\n",
        "employee_id - the id of the employee assigned to this project\n",
        "The employees table has the following columns:\n",
        "\n",
        "id - the id of the employee\n",
        "first_name - the first name of the employee\n",
        "last_name - the last name of the employee\n",
        "\n",
        "The projects table stores the employee_id for the employee assigned to each project.\n",
        "\n",
        "Perform an inner join on the two tables, matching on the primary key and foreign key described above, and select all columns."
      ],
      "metadata": {
        "id": "ES1Xd4NTrKqx"
      }
    },
    {
      "cell_type": "code",
      "source": [
        "SELECT\n",
        "*\n",
        "FROM\n",
        "projects\n",
        "INNER JOIN\n",
        "employees\n",
        "ON projects.employee_id = employees.id"
      ],
      "metadata": {
        "id": "5eoHZT-0rNkB"
      },
      "execution_count": null,
      "outputs": []
    },
    {
      "cell_type": "markdown",
      "source": [
        "Perform a join between the two tables, such that it selects all projects even if there is no employee assigned to it."
      ],
      "metadata": {
        "id": "6QylDYZQrPhh"
      }
    },
    {
      "cell_type": "code",
      "source": [
        "SELECT\n",
        "*\n",
        "FROM\n",
        "projects\n",
        "LEFT JOIN\n",
        "employees\n",
        "ON projects.employee_id = employees.id;"
      ],
      "metadata": {
        "id": "4ui7QgexrRZR"
      },
      "execution_count": null,
      "outputs": []
    },
    {
      "cell_type": "markdown",
      "source": [
        "The math_students and english_students tables have the following columns:\n",
        "\n",
        "student_id - the student id\n",
        "grade - the grade level of the student\n",
        "first_name - the student’s first name\n",
        "last_name - the student’s last name"
      ],
      "metadata": {
        "id": "i3ND-PSfrj1T"
      }
    },
    {
      "cell_type": "code",
      "source": [
        "SELECT *\n",
        "FROM math_students\n",
        "WHERE student_id IN (\n",
        "  SELECT student_id\n",
        "  FROM english_students\n",
        ");"
      ],
      "metadata": {
        "id": "VLUvzdsyswkS"
      },
      "execution_count": null,
      "outputs": []
    },
    {
      "cell_type": "markdown",
      "source": [
        "Using a subquery, find out which students in math are in the same grade level as the student with id 7."
      ],
      "metadata": {
        "id": "vZV7YTR3ubLb"
      }
    },
    {
      "cell_type": "code",
      "source": [
        "SELECT *\n",
        "FROM math_students\n",
        "WHERE grade IN (\n",
        "  SELECT grade\n",
        "  FROM math_students\n",
        "  WHERE student_id = 7\n",
        ");"
      ],
      "metadata": {
        "id": "-lsjw9tkuapb"
      },
      "execution_count": null,
      "outputs": []
    },
    {
      "cell_type": "markdown",
      "source": [
        "Using a subquery, find all students enrolled in english class who are not also enrolled in math class."
      ],
      "metadata": {
        "id": "OzdNstW6udZD"
      }
    },
    {
      "cell_type": "code",
      "source": [
        "SELECT *\n",
        "FROM english_students\n",
        "WHERE student_id not IN (\n",
        "  SELECT student_id\n",
        "  FROM math_students\n",
        ");"
      ],
      "metadata": {
        "id": "oF3pwkhHsyjb"
      },
      "execution_count": null,
      "outputs": []
    },
    {
      "cell_type": "markdown",
      "source": [
        "Using a subquery, find out what grade levels are represented in both the math and english classes."
      ],
      "metadata": {
        "id": "fk_TESO1vZr7"
      }
    },
    {
      "cell_type": "code",
      "source": [
        "SELECT grade\n",
        "FROM math_students\n",
        "WHERE EXISTS (\n",
        "  SELECT grade\n",
        "  FROM english_students\n",
        ");"
      ],
      "metadata": {
        "id": "brPh1TItvxmL"
      },
      "execution_count": null,
      "outputs": []
    },
    {
      "cell_type": "markdown",
      "source": [
        "The box_office table has the following columns:\n",
        "\n",
        "id - the id of each row\n",
        "title - the title of the movie\n",
        "week - the week following the film’s release\n",
        "gross - the gross for that week\n",
        "to_date_gross - the total gross of the movie up to each week\n",
        "Instructions\n",
        "1.\n",
        "Using a window function with PARTITION BY, get the running total in gross for each movie up to the current week and display it next to the current week column along with the title, week, and gross columns."
      ],
      "metadata": {
        "id": "Vsp8k7lGvdDT"
      }
    },
    {
      "cell_type": "code",
      "source": [
        "SELECT title, week, gross,\n",
        "SUM(gross) OVER (\n",
        "      PARTITION BY title \n",
        "      ORDER BY week\n",
        "    ) 'running_total_gross'\n",
        "FROM  box_office"
      ],
      "metadata": {
        "id": "xx1zNQfWxLFq"
      },
      "execution_count": null,
      "outputs": []
    },
    {
      "cell_type": "markdown",
      "source": [
        "Write a query using a window function with ROW_NUMBER and ORDER BY to see where each row falls in the amount of gross."
      ],
      "metadata": {
        "id": "LQUP43V0yZFU"
      }
    },
    {
      "cell_type": "code",
      "source": [
        "SELECT ROW_NUMBER()\n",
        "OVER (\n",
        "  ORDER BY gross\n",
        ") AS 'row_num', title, week, gross\n",
        "FROM box_office;"
      ],
      "metadata": {
        "id": "dDxY85qKyZSk"
      },
      "execution_count": null,
      "outputs": []
    },
    {
      "cell_type": "markdown",
      "source": [
        "The orders table has the following columns:\n",
        "\n",
        "id - the order id\n",
        "product_id - the product id\n",
        "price - the price of the individual product item\n",
        "quantity - the quantity of items in the order"
      ],
      "metadata": {
        "id": "pzJnpm_My3uc"
      }
    },
    {
      "cell_type": "code",
      "source": [
        "SELECT id, product_id,\n",
        "price*quantity\n",
        "FROM\n",
        "orders;"
      ],
      "metadata": {
        "id": "HmUTFF2Zy2-U"
      },
      "execution_count": null,
      "outputs": []
    },
    {
      "cell_type": "markdown",
      "source": [
        "The weather table has the following columns:\n",
        "\n",
        "id - the id of each entry\n",
        "date - the date of each entry\n",
        "high - the high temperature of the date, in Fahrenheit\n",
        "low - the low temperature of the date, in Fahrenheit"
      ],
      "metadata": {
        "id": "lYCwhmPby6tL"
      }
    },
    {
      "cell_type": "code",
      "source": [
        "SELECT date,\n",
        "(CAST(high AS 'REAL') + CAST(low AS 'REAL')) / 2.0 AS 'average'\n",
        "FROM weather"
      ],
      "metadata": {
        "id": "jAEkE3ugy9Qr"
      },
      "execution_count": null,
      "outputs": []
    },
    {
      "cell_type": "markdown",
      "source": [
        "Code Challenge 13\n",
        "The purchases table has the following columns:\n",
        "\n",
        "purchase_id - the id of the purchase\n",
        "purchase_date - the date of the purchase"
      ],
      "metadata": {
        "id": "26NxO47Pz8e7"
      }
    },
    {
      "cell_type": "code",
      "source": [
        "SELECT purchase_id,\n",
        "DATE(purchase_date, '+7 days')\n",
        "FROM\n",
        "purchases;"
      ],
      "metadata": {
        "id": "z-cwYwjlz72z"
      },
      "execution_count": null,
      "outputs": []
    },
    {
      "cell_type": "markdown",
      "source": [
        "Get the hour that each purchase was made.\n",
        "\n",
        "Which hour had the most purchases made?"
      ],
      "metadata": {
        "id": "IgsKiNwX2Cmd"
      }
    },
    {
      "cell_type": "code",
      "source": [
        "SELECT strftime('%H',purchase_date) \n",
        "     AS 'Hour',\n",
        "   COUNT(strftime('%H',purchase_date)) \n",
        "     AS 'Purchases'\n",
        "FROM purchases \n",
        "GROUP BY 1 \n",
        "ORDER BY 2 desc;"
      ],
      "metadata": {
        "id": "wdXAEwDR2INz"
      },
      "execution_count": null,
      "outputs": []
    },
    {
      "cell_type": "markdown",
      "source": [
        "Using string formatting and substitutions, get the month and day for each purchase in the form ‘mm-dd’.\n",
        "\n",
        "Give this new column a name of ‘reformatted’."
      ],
      "metadata": {
        "id": "81PZ8HhM2HpN"
      }
    },
    {
      "cell_type": "code",
      "source": [
        "SELECT STRFTIME('%m-%d', purchase_date)\n",
        " AS 'reformatted'\n",
        "FROM purchases ;"
      ],
      "metadata": {
        "id": "GuHoq6QL3LuM"
      },
      "execution_count": null,
      "outputs": []
    },
    {
      "cell_type": "markdown",
      "source": [
        "For strftime(__, timestamp):\n",
        "\n",
        "%Y returns the year (YYYY)\n",
        "%m returns the month (01-12)\n",
        "%d returns the day of the month (1-31)\n",
        "%H returns 24-hour clock (00-23)\n",
        "%M returns the minute (00-59)\n",
        "%S returns the seconds (00-59)\n",
        "if time format is YYYY-MM-DD HH:MM:SS."
      ],
      "metadata": {
        "id": "1qxDZA3Qh42M"
      }
    },
    {
      "cell_type": "markdown",
      "source": [
        "Project\n",
        "Twitch is the world’s leading live streaming platform for gamers, with 15 million daily active users. Using data to understand its users and products is one of the main responsibilities of the Twitch Data Science Team.\n",
        "\n",
        "In this project, you will be working with two tables that contain Twitch users’ stream viewing data and chat room usage data.\n",
        "\n",
        "Stream viewing data:\n",
        "\n",
        "stream table\n",
        "Chat usage data:\n",
        "\n",
        "chat table\n",
        "The Twitch Science Team provided this practice dataset. You can download the .csv files (800,000 rows) from GitHub.\n",
        "\n",
        "Let’s get started!\n",
        "\n",
        "If you get stuck during this project or would like to see an experienced developer work through it, click Get Unstuck to see a walkthrough video."
      ],
      "metadata": {
        "id": "LfKM2Dupaf7Y"
      }
    },
    {
      "cell_type": "code",
      "source": [
        "# Start by getting a feel for the stream table and the chat table.\n",
        "# Select the first 20 rows from each of the two tables.\n",
        "SELECT * \n",
        "FROM stream\n",
        "LIMIT 20;\n",
        "SELECT * \n",
        "FROM chat\n",
        "LIMIT 20;"
      ],
      "metadata": {
        "id": "nPn4pRc6afHo"
      },
      "execution_count": null,
      "outputs": []
    },
    {
      "cell_type": "code",
      "source": [
        "# What are the unique games in the stream table?\n",
        "SELECT DISTINCT game \n",
        "FROM stream;"
      ],
      "metadata": {
        "id": "KT0WK83ja3sY"
      },
      "execution_count": null,
      "outputs": []
    },
    {
      "cell_type": "code",
      "source": [
        "# What are the unique channels in the stream table?\n",
        "SELECT DISTINCT channel\n",
        "FROM stream;"
      ],
      "metadata": {
        "id": "iszU8vg6bvS5"
      },
      "execution_count": null,
      "outputs": []
    },
    {
      "cell_type": "code",
      "source": [
        "# What are the most popular games in the stream table? \n",
        "# Create a list of games and their number of viewers using GROUP BY.\n",
        "SELECT game, COUNT (*)\n",
        "FROM stream\n",
        "GROUP BY 1\n",
        "ORDER BY 2 DESC;"
      ],
      "metadata": {
        "id": "_G2G567yb_C4"
      },
      "execution_count": null,
      "outputs": []
    },
    {
      "cell_type": "code",
      "source": [
        "# These are some big numbers from the game League of Legends (also known as LoL). Where are these LoL stream viewers located?\n",
        "# Create a list of countries and their number of LoL viewers using WHERE and GROUP BY.\n",
        "SELECT country, COUNT (*)\n",
        "FROM \n",
        "stream\n",
        "WHERE game = 'League of Legends'\n",
        "GROUP BY 1\n",
        "ORDER BY 2 DESC"
      ],
      "metadata": {
        "id": "nOxlwaDxceFZ"
      },
      "execution_count": null,
      "outputs": []
    },
    {
      "cell_type": "code",
      "source": [
        "# The player column contains the source the user is using to view the stream (site, iphone, android, etc).\n",
        "# Create a list of players and their number of streamers.\n",
        "SELECT player, COUNT (*)\n",
        "FROM \n",
        "stream\n",
        "GROUP BY 1\n",
        "ORDER BY 2 DESC"
      ],
      "metadata": {
        "id": "ynmHYlh0fCIV"
      },
      "execution_count": null,
      "outputs": []
    },
    {
      "cell_type": "code",
      "source": [
        "# Create a new column named genre for each of the games. Use GROUP BY and ORDER BY to showcase only the unique game titles.\n",
        "\n",
        "Group the games into their genres: Multiplayer Online Battle Arena (MOBA), First Person Shooter (FPS), Survival, and Other.\n",
        "SELECT \n",
        "       CASE\n",
        "           WHEN game = 'League of Legends' THEN 'MOBA'\n",
        "           WHEN game = 'Dota 2' THEN 'MOBA'\n",
        "           WHEN game = 'Heroes of the Storm' THEN 'MOBA'\n",
        "           WHEN game = 'Counter-Strike: Global Offensive' THEN 'FPS'\n",
        "           WHEN game = 'DayZ' THEN 'Survival'\n",
        "           ELSE 'Other'\n",
        "       END AS genre,\n",
        "       COUNT (*)\n",
        "FROM stream\n",
        "GROUP BY 1\n",
        "ORDER BY 2 DESC"
      ],
      "metadata": {
        "id": "r-WDfaytgyqr"
      },
      "execution_count": null,
      "outputs": []
    },
    {
      "cell_type": "code",
      "source": [
        "# How does view count change in the course of a day?.\n",
        "# Before we get started, let’s run this query and take a look at the time column from the stream table:\n",
        "SELECT time\n",
        "FROM stream\n",
        "LIMIT 10;"
      ],
      "metadata": {
        "id": "sUmbq1kqhMzP"
      },
      "execution_count": null,
      "outputs": []
    },
    {
      "cell_type": "code",
      "source": [
        "# SQLite comes with a strftime() function - a very powerful function that allows you to return a formatted date.\n",
        "# It takes two arguments:\n",
        "# strftime(format, column)\n",
        "# Let’s test this function out:\n",
        "SELECT time,\n",
        "strftime('%S', time)\n",
        "FROM stream\n",
        "GROUP BY 1\n",
        "LIMIT 10;"
      ],
      "metadata": {
        "id": "iL8fkASXhTua"
      },
      "execution_count": null,
      "outputs": []
    },
    {
      "cell_type": "code",
      "source": [
        "# Let’s write a query that returns two columns: The hours of the time column and the view count for each hour\n",
        "# Lastly, filter the result with only the users in your country using a WHERE clause.\n",
        "SELECT strftime('%H', time) AS hours,\n",
        "COUNT (*)\n",
        "FROM stream\n",
        "WHERE country = 'ES'\n",
        "GROUP BY 1\n",
        "ORDER BY 2 DESC;"
      ],
      "metadata": {
        "id": "Zsa9RFyci0VD"
      },
      "execution_count": null,
      "outputs": []
    },
    {
      "cell_type": "code",
      "source": [
        "# The stream table and the chat table share a column: device_id\n",
        "SELECT *\n",
        "FROM stream\n",
        "JOIN chat\n",
        "  ON stream.device_id = chat.device_id"
      ],
      "metadata": {
        "id": "ZNJdwfXUjLhO"
      },
      "execution_count": null,
      "outputs": []
    },
    {
      "cell_type": "code",
      "source": [],
      "metadata": {
        "id": "2BPWsEwnjQZF"
      },
      "execution_count": null,
      "outputs": []
    }
  ]
}