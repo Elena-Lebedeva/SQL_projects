{
  "nbformat": 4,
  "nbformat_minor": 0,
  "metadata": {
    "colab": {
      "name": "SQL_electiv.ipynb",
      "provenance": [],
      "authorship_tag": "ABX9TyOOgoIaCQ3n7CtVH/YV6RI9"
    },
    "kernelspec": {
      "name": "python3",
      "display_name": "Python 3"
    },
    "language_info": {
      "name": "python"
    }
  },
  "cells": [
    {
      "cell_type": "markdown",
      "metadata": {
        "id": "e9B6FvWPrODe"
      },
      "source": [
        "\n",
        "\n",
        "> create database in beaver (from empty database)\n",
        "\n",
        "postgres - sql editor - open SQL script\n"
      ]
    },
    {
      "cell_type": "code",
      "metadata": {
        "id": "r512P-wYp81u"
      },
      "source": [
        "create database new_vip_orders_database "
      ],
      "execution_count": null,
      "outputs": []
    },
    {
      "cell_type": "markdown",
      "metadata": {
        "id": "mC9Cbgu-tE2S"
      },
      "source": [
        "play script and refresh postgres"
      ]
    },
    {
      "cell_type": "markdown",
      "metadata": {
        "id": "p9bAp7i2t9sL"
      },
      "source": [
        "click to the our new created database - tools - execute scripts - input file (choose path to database) - start"
      ]
    },
    {
      "cell_type": "code",
      "metadata": {
        "id": "3cFJj6pGtEOD"
      },
      "source": [
        "select * from expensive_expenses ee "
      ],
      "execution_count": null,
      "outputs": []
    },
    {
      "cell_type": "code",
      "metadata": {
        "id": "ZVmVygezvotc"
      },
      "source": [
        "select id, count(id), sum(cost)\n",
        "from expensive_purchases ep \n",
        "where payment_method ='cash'\n",
        "group by id\n",
        "order by sum(cost) desc \n",
        "limit 10"
      ],
      "execution_count": null,
      "outputs": []
    },
    {
      "cell_type": "code",
      "metadata": {
        "id": "WpnW5l4V6gPG"
      },
      "source": [
        "select * \n",
        "from \n",
        "(select \n",
        "    extract (year from date) as year,\n",
        "    case \n",
        "        when extract (month from date) in (3,4,5) then 'spring'\n",
        "        when extract (month from date) in (9,10,11) then 'autumn'\n",
        "    end as seasons,\n",
        "    avg(cost)\n",
        "from expensive_purchases ep\n",
        "group by year, seasons) as q_l\n",
        "where seasons is not null"
      ],
      "execution_count": null,
      "outputs": []
    },
    {
      "cell_type": "code",
      "metadata": {
        "id": "IUrKGiZF-qxu"
      },
      "source": [
        "select product, \n",
        "       cost \n",
        "from expensive_purchases \n",
        "where id in (select id\n",
        "    from expensive_purchases\n",
        "    group by id \n",
        "    having min(date) between '2019-03-01' and '2019-03-31')\n",
        "order by cost desc \n",
        "limit 1"
      ],
      "execution_count": null,
      "outputs": []
    },
    {
      "cell_type": "code",
      "metadata": {
        "id": "UHNU47RLpgfT"
      },
      "source": [
        "SELECT\n",
        "    order_details.product_id,\n",
        "    order_details.order_id,\n",
        "    products.supplier_id,\n",
        "    suppliers.company_name\n",
        "FROM\n",
        "    order_details\n",
        "    LEFT JOIN products ON  order_details.product_id = products.product_id\n",
        "    LEFT join suppliers on suppliers.supplier_id = products.supplier_id\n",
        "order by \n",
        "    "
      ],
      "execution_count": null,
      "outputs": []
    },
    {
      "cell_type": "code",
      "metadata": {
        "id": "PKY8kksT6xRh"
      },
      "source": [
        "### 1st homework 1st task\n",
        "select suppliers.company_name as supplier_name, count(order_details.quantity) as total_orders \n",
        "FROM\n",
        "    order_details\n",
        "    inner JOIN products ON  order_details.product_id = products.product_id\n",
        "    inner join suppliers on suppliers.supplier_id = products.supplier_id\n",
        "group by supplier_name\n",
        "order by total_orders desc limit 10"
      ],
      "execution_count": null,
      "outputs": []
    },
    {
      "cell_type": "code",
      "metadata": {
        "id": "Xx5VMQ9AC-U2"
      },
      "source": [
        "### another solution ****\n",
        "select s.company_name as supplier_name, count(od.product_id) as total_orders \n",
        "FROM\n",
        "    order_details od\n",
        "    left outer JOIN products as p ON  od.product_id = p.product_id\n",
        "    left outer join suppliers as s on p.supplier_id = s.supplier_id\n",
        "group by s.company_name\n",
        "order by total_orders desc \n",
        "limit 10"
      ],
      "execution_count": null,
      "outputs": []
    },
    {
      "cell_type": "code",
      "metadata": {
        "id": "J4bfwk4zpilt"
      },
      "source": [
        "### 1st homework 2nd task\n",
        "select \n",
        "    extract (month from order_date) as order_month,\n",
        "    count(customer_id) as total_customers\n",
        "from orders\n",
        "where customer_id in (select customer_id\n",
        "    from orders\n",
        "    group by customer_id\n",
        "    having min(order_date) between '1997-01-01' and '1997-01-31') and \n",
        "    order_date between '1997-01-01' and '1997-12-31'\n",
        "group by order_month"
      ],
      "execution_count": null,
      "outputs": []
    },
    {
      "cell_type": "code",
      "metadata": {
        "id": "mRf6mnZF1Hw3"
      },
      "source": [
        "### 1st homework 3nd task\n",
        "select round(sum(unit_price*quantity)) \n",
        "from order_details inner join orders on orders.order_id = order_details.order_id\n",
        "where customer_id in (select customer_id\n",
        "    from orders\n",
        "    where customer_id in \n",
        "    (select customer_id from orders where extract(year from order_date)='1998')\n",
        "    group by customer_id\n",
        "    having min(order_date) between '1997-09-01' and '1997-09-30')"
      ],
      "execution_count": null,
      "outputs": []
    },
    {
      "cell_type": "code",
      "metadata": {
        "id": "GapsM06DDfDI"
      },
      "source": [
        "### 2nd webinar"
      ],
      "execution_count": null,
      "outputs": []
    },
    {
      "cell_type": "code",
      "metadata": {
        "id": "0CbX7dpKIxhd"
      },
      "source": [
        "update expensive_purchases \n",
        "set product = 'collimator'\n",
        "where product = 'optical'"
      ],
      "execution_count": null,
      "outputs": []
    },
    {
      "cell_type": "code",
      "metadata": {
        "id": "_4GljYNdOlFT"
      },
      "source": [
        "update expensive_purchases \n",
        "set cost = cost/10,\n",
        "    payment_method = 'cash' \n",
        "where product = 'rifle' \n",
        "and payment_method = 'cash'"
      ],
      "execution_count": null,
      "outputs": []
    },
    {
      "cell_type": "code",
      "metadata": {
        "id": "p_A9WQ5eRzVF"
      },
      "source": [
        "delete from expensive_purchases \n",
        "where product = 'watch'"
      ],
      "execution_count": null,
      "outputs": []
    },
    {
      "cell_type": "code",
      "metadata": {
        "id": "e2KOUZuOVX36"
      },
      "source": [
        "select category\n",
        "from expensive_expenses ee \n",
        "group by category\n",
        "order by count(expenses)\n",
        "limit 1"
      ],
      "execution_count": null,
      "outputs": []
    },
    {
      "cell_type": "code",
      "metadata": {
        "id": "GZY9_bwrVaXS"
      },
      "source": [
        "delete from expensive_expenses \n",
        "where category = (\n",
        "\tselect category\n",
        "\tfrom expensive_expenses ee \n",
        "\tgroup by category\n",
        "\torder by count(expenses)\n",
        "\tlimit 1\n",
        "\t\t\t\t)"
      ],
      "execution_count": null,
      "outputs": []
    },
    {
      "cell_type": "code",
      "metadata": {
        "id": "UGSZyBTQL0TN"
      },
      "source": [
        "insert into expensive_expenses (expenses_id, category, date, expenses)\n",
        "values\n",
        "(299,'electronics', '2019-03-21', 4532),\n",
        "(300, 'hunting', '2020-03-30', 1890),\n",
        "(301, 'transport', '2019-12-12', 4444)"
      ],
      "execution_count": null,
      "outputs": []
    },
    {
      "cell_type": "code",
      "metadata": {
        "id": "UmXFIav87ae8"
      },
      "source": [
        "# second homework task 1\n",
        "select * from customer_demographics cd \n",
        "INSERT INTO customer_demographics (customer_type_id, customer_desc)\n",
        "SELECT customer_id, country\n",
        "FROM customers"
      ],
      "execution_count": null,
      "outputs": []
    },
    {
      "cell_type": "code",
      "metadata": {
        "id": "WrP-BHy3Olsr"
      },
      "source": [
        "# second homework task 2\n",
        "delete from shippers s \n",
        "where shipper_id not in\n",
        "(\n",
        "select ship_via\n",
        "from orders\n",
        "group by ship_via \n",
        ")"
      ],
      "execution_count": null,
      "outputs": []
    },
    {
      "cell_type": "code",
      "metadata": {
        "id": "-bHqA-XO3GZM"
      },
      "source": [
        "# second homework task 3\n",
        "delete from products p \n",
        "where unit_price not between \n",
        "\t(select \n",
        "\t    percentile_disc(0.05) within group (order by products.unit_price) ---  между 0,05 (а не 0.5) и 0,95 квантилью\n",
        "\tfrom products)\n",
        "and \n",
        "\t(select \n",
        "\t    percentile_disc(0.95) within group (order by products.unit_price)\n",
        "\tfrom products)\n",
        " \n",
        " ###\n",
        "\n",
        "delete from order_details where product_id in\n",
        "(select product_id from products p \n",
        "where unit_price not between \n",
        "\t(select \n",
        "\t    percentile_disc(0.05) within group (order by products.unit_price) ---  между 0,05 (а не 0.5) и 0,95 квантилью\n",
        "\tfrom products)\n",
        "and \n",
        "\t(select \n",
        "\t    percentile_disc(0.95) within group (order by products.unit_price)\n",
        "\tfrom products))\n"
      ],
      "execution_count": null,
      "outputs": []
    },
    {
      "cell_type": "code",
      "metadata": {
        "id": "dUzw7a_LxSq_"
      },
      "source": [
        "# another solution for 3\n",
        "--delete from order_details where product_id in\n",
        "delete from products  where product_id in(\n",
        "with quantily as (\n",
        "    select percentile_disc(0.5)  within group (order by unit_price) as low,\n",
        "           percentile_disc(0.95) within group (order by unit_price) as top\n",
        "      from products\n",
        ")\n",
        "select product_id\n",
        "  from products, quantily  \n",
        " --where unit_price between quantily.low and quantily.top;\n",
        " where unit_price < quantily.low or unit_price > quantily.top);"
      ],
      "execution_count": null,
      "outputs": []
    },
    {
      "cell_type": "code",
      "source": [
        "# 3 webinar\n",
        "\n",
        "# Задача 1 Создать таблицу для связей между двумя таблицами.\n",
        "CREATE TABLE category_product\n",
        "(\n",
        "product_id VARCHAR(25) NOT NULL,\n",
        "PRIMARY KEY (product_id)\n",
        ");\n"
      ],
      "metadata": {
        "id": "fos5XRe-kG-4"
      },
      "execution_count": null,
      "outputs": []
    },
    {
      "cell_type": "code",
      "source": [
        "# Задача 2 Заполнить первое поле таблицы category_product (созданной только что, поле product_id)\n",
        "INSERT INTO category_product (product_id)\n",
        "(SELECT distinct (product)\n",
        "FROM expensive_purchases)"
      ],
      "metadata": {
        "id": "0dXqqZohlJsI"
      },
      "execution_count": null,
      "outputs": []
    },
    {
      "cell_type": "code",
      "source": [
        "# Задача 3 Создать два дополнительных столбца.\n",
        "ALTER TABLE category_product\n",
        "ADD category_id VARCHAR(25),\n",
        "ADD temp_id VARCHAR(25)\n",
        "\n",
        "# Задача 4 Переименовать столбец temp_id в temp_1.\n",
        "ALTER TABLE category_product\n",
        "RENAME COLUMN temp_id TO temp_1;\n",
        "ALTER TABLE category_product\n",
        "ALTER COLUMN temp_1 TYPE VARCHAR(5)\n",
        "\n",
        "# Задача 5 Удалить temp_1.\n",
        "ALTER TABLE category_product\n",
        "DROP COLUMN temp_1"
      ],
      "metadata": {
        "id": "uYnBfhAylO8W"
      },
      "execution_count": null,
      "outputs": []
    },
    {
      "cell_type": "code",
      "source": [
        "# Задача 6 Заполнить второе поле (category_id)\n",
        "SELECT distinct category\n",
        "FROM expensive_expenses;\n",
        "UPDATE category_product\n",
        "SET category_id =\n",
        "(CASE\n",
        "WHEN product_id IN ('auto', 'motorcycle', 'bicycle') THEN 'transport'\n",
        "WHEN product_id IN ('collimator', 'knife', 'rifle') THEN 'hunting'\n",
        "ELSE 'electronics'\n",
        "END)\n",
        "\n",
        "# Задача 6 Сделать связь для category_product и\n",
        "ALTER TABLE expensive_purchases\n",
        "ADD FOREIGN KEY (product) REFERENCES category_product (product_id);"
      ],
      "metadata": {
        "id": "pUlYkIekllan"
      },
      "execution_count": null,
      "outputs": []
    }
  ]
}